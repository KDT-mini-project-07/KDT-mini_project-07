{
 "cells": [
  {
   "cell_type": "markdown",
   "source": [
    "## 날릴 거\n",
    "- matchid, groupid\n",
    "- kill\n",
    "- rankpoint\n",
    "- 차량 파괴\n",
    "- maxplace\n",
    "- \n",
    "## 기준\n",
    "- MAE\n",
    "- matchtype\n",
    "\n",
    "## 고려사항\n",
    "- 주행, 수영, 도보 이동 거리는 합할까..?\n",
    "\n",
    "### 솔로, 듀오, 듀오 1인칭, 스쿼드 제외 나머지"
   ],
   "metadata": {
    "collapsed": false
   },
   "id": "efd2fdc6de6b90c1"
  },
  {
   "cell_type": "code",
   "outputs": [],
   "source": [
    "# 모듈 로딩\n",
    "import pandas as pd\n",
    "import matplotlib.pyplot as plt"
   ],
   "metadata": {
    "collapsed": false,
    "ExecuteTime": {
     "end_time": "2024-03-11T01:25:28.394421Z",
     "start_time": "2024-03-11T01:25:28.376362Z"
    }
   },
   "id": "af9eaf23b0309e1f",
   "execution_count": 1
  },
  {
   "cell_type": "code",
   "outputs": [
    {
     "data": {
      "text/plain": "                     Id  winPlacePerc\n0        9329eb41e215eb             1\n1        639bd0dcd7bda8             1\n2        63d5c8ef8dfe91             1\n3        cf5b81422591d1             1\n4        ee6a295187ba21             1\n...                 ...           ...\n1934169  a316c3a13887d5             1\n1934170  5312146b27d875             1\n1934171  fc8818b5b32ad3             1\n1934172  a0f91e35f8458f             1\n1934173  3696fc9f3a42b2             1\n\n[1934174 rows x 2 columns]",
      "text/html": "<div>\n<style scoped>\n    .dataframe tbody tr th:only-of-type {\n        vertical-align: middle;\n    }\n\n    .dataframe tbody tr th {\n        vertical-align: top;\n    }\n\n    .dataframe thead th {\n        text-align: right;\n    }\n</style>\n<table border=\"1\" class=\"dataframe\">\n  <thead>\n    <tr style=\"text-align: right;\">\n      <th></th>\n      <th>Id</th>\n      <th>winPlacePerc</th>\n    </tr>\n  </thead>\n  <tbody>\n    <tr>\n      <th>0</th>\n      <td>9329eb41e215eb</td>\n      <td>1</td>\n    </tr>\n    <tr>\n      <th>1</th>\n      <td>639bd0dcd7bda8</td>\n      <td>1</td>\n    </tr>\n    <tr>\n      <th>2</th>\n      <td>63d5c8ef8dfe91</td>\n      <td>1</td>\n    </tr>\n    <tr>\n      <th>3</th>\n      <td>cf5b81422591d1</td>\n      <td>1</td>\n    </tr>\n    <tr>\n      <th>4</th>\n      <td>ee6a295187ba21</td>\n      <td>1</td>\n    </tr>\n    <tr>\n      <th>...</th>\n      <td>...</td>\n      <td>...</td>\n    </tr>\n    <tr>\n      <th>1934169</th>\n      <td>a316c3a13887d5</td>\n      <td>1</td>\n    </tr>\n    <tr>\n      <th>1934170</th>\n      <td>5312146b27d875</td>\n      <td>1</td>\n    </tr>\n    <tr>\n      <th>1934171</th>\n      <td>fc8818b5b32ad3</td>\n      <td>1</td>\n    </tr>\n    <tr>\n      <th>1934172</th>\n      <td>a0f91e35f8458f</td>\n      <td>1</td>\n    </tr>\n    <tr>\n      <th>1934173</th>\n      <td>3696fc9f3a42b2</td>\n      <td>1</td>\n    </tr>\n  </tbody>\n</table>\n<p>1934174 rows × 2 columns</p>\n</div>"
     },
     "execution_count": 2,
     "metadata": {},
     "output_type": "execute_result"
    }
   ],
   "source": [
    "#데이터 준비\n",
    "\n",
    "data = pd.read_csv('../datas/train_V2.csv')\n",
    "sample = pd.read_csv('../datas/sample_submission_V2.csv')\n",
    "\n",
    "sample"
   ],
   "metadata": {
    "collapsed": false,
    "ExecuteTime": {
     "end_time": "2024-03-11T01:25:41.990663Z",
     "start_time": "2024-03-11T01:25:28.400047Z"
    }
   },
   "id": "7f6828f1df2d13aa",
   "execution_count": 2
  },
  {
   "cell_type": "code",
   "outputs": [
    {
     "data": {
      "text/plain": "Index(['Id', 'groupId', 'matchId', 'assists', 'boosts', 'damageDealt', 'DBNOs',\n       'headshotKills', 'heals', 'killPlace', 'killPoints', 'kills',\n       'killStreaks', 'longestKill', 'matchDuration', 'matchType', 'maxPlace',\n       'numGroups', 'rankPoints', 'revives', 'rideDistance', 'roadKills',\n       'swimDistance', 'teamKills', 'vehicleDestroys', 'walkDistance',\n       'weaponsAcquired', 'winPoints', 'winPlacePerc'],\n      dtype='object')"
     },
     "execution_count": 3,
     "metadata": {},
     "output_type": "execute_result"
    }
   ],
   "source": [
    "#컬럼명 확인하고 필요 없는 거 날리기\n",
    "\n",
    "data.columns"
   ],
   "metadata": {
    "collapsed": false,
    "ExecuteTime": {
     "end_time": "2024-03-11T01:25:42.005791Z",
     "start_time": "2024-03-11T01:25:41.991593Z"
    }
   },
   "id": "951f5e40eb8c8af8",
   "execution_count": 3
  },
  {
   "cell_type": "code",
   "outputs": [],
   "source": [
    "usingdata = data.drop(['Id','groupId','matchId','killPoints','kills','maxPlace','numGroups','rankPoints','rideDistance','roadKills','swimDistance','vehicleDestroys','winPoints'], axis = 1)"
   ],
   "metadata": {
    "collapsed": false,
    "ExecuteTime": {
     "end_time": "2024-03-11T01:25:42.223404Z",
     "start_time": "2024-03-11T01:25:42.008846Z"
    }
   },
   "id": "a0ed2a3a4abf6d78",
   "execution_count": 4
  },
  {
   "cell_type": "code",
   "outputs": [
    {
     "data": {
      "text/plain": "Index(['assists', 'boosts', 'damageDealt', 'DBNOs', 'headshotKills', 'heals',\n       'killPlace', 'killStreaks', 'longestKill', 'matchDuration', 'matchType',\n       'revives', 'teamKills', 'walkDistance', 'weaponsAcquired',\n       'winPlacePerc'],\n      dtype='object')"
     },
     "execution_count": 5,
     "metadata": {},
     "output_type": "execute_result"
    }
   ],
   "source": [
    "usingdata.columns"
   ],
   "metadata": {
    "collapsed": false,
    "ExecuteTime": {
     "end_time": "2024-03-11T01:25:42.239059Z",
     "start_time": "2024-03-11T01:25:42.225468Z"
    }
   },
   "id": "fef86ae8ae1e5e7a",
   "execution_count": 5
  },
  {
   "cell_type": "code",
   "outputs": [
    {
     "data": {
      "text/plain": "array(['squad-fpp', 'duo', 'solo-fpp', 'squad', 'duo-fpp', 'solo',\n       'normal-squad-fpp', 'crashfpp', 'flaretpp', 'normal-solo-fpp',\n       'flarefpp', 'normal-duo-fpp', 'normal-duo', 'normal-squad',\n       'crashtpp', 'normal-solo'], dtype=object)"
     },
     "execution_count": 6,
     "metadata": {},
     "output_type": "execute_result"
    }
   ],
   "source": [
    "# 쓸 데이터 : 매치타입 컬럼의 특수 타입(노멀 스쿼드 1인칭, 노멀 솔로 1인칭) 추출\n",
    "# 크래시와 플레어는 놀이 개념이 큰 맵이라 고려해야 할 요소가 다르기 때문에 제외\n",
    "\n",
    "usingdata['matchType'].unique() "
   ],
   "metadata": {
    "collapsed": false,
    "ExecuteTime": {
     "end_time": "2024-03-11T01:25:42.487533Z",
     "start_time": "2024-03-11T01:25:42.240040Z"
    }
   },
   "id": "25362ce987b949ce",
   "execution_count": 6
  },
  {
   "cell_type": "code",
   "outputs": [],
   "source": [
    "mask = usingdata['matchType'].isin(['normal-squad-fpp','normal-solo-fpp', 'normal-duo-fpp','normal-solo','normal-duo','normal-squad'])\n",
    "others = usingdata[mask]\n",
    "others = others.drop(['matchType'], axis = 1)"
   ],
   "metadata": {
    "collapsed": false,
    "ExecuteTime": {
     "end_time": "2024-03-11T01:25:42.720755Z",
     "start_time": "2024-03-11T01:25:42.489097Z"
    }
   },
   "id": "b53a4404f16d49b8",
   "execution_count": 7
  },
  {
   "cell_type": "code",
   "outputs": [
    {
     "data": {
      "text/plain": "         index  assists  boosts  damageDealt  DBNOs  headshotKills  heals  \\\n0          265        0       3       335.90      1              0      4   \n1         1292        6       0      1750.00      0              6      2   \n2         1351        2       0       655.20      0              2      0   \n3         1417        2       0       245.20      0              0     10   \n4         1649        2       6        89.14      0              0      7   \n...        ...      ...     ...          ...    ...            ...    ...   \n25381  4446353        1       4      1300.00      0              5      5   \n25382  4446375        1       0       396.00      3              0      3   \n25383  4446682        0       0        41.95      0              0      0   \n25384  4446749        0       5         0.00      0              0      5   \n25385  4446846        0       3       567.60      0              2      1   \n\n       killPlace  killStreaks  longestKill  matchDuration  revives  teamKills  \\\n0             16            1         5.65           1950        0          0   \n1              7            3        69.88           1034        0          0   \n2             11            3         1.48            492        0          0   \n3             45            1        19.80            697        0          0   \n4             32            0         0.00           1952        1          0   \n...          ...          ...          ...            ...      ...        ...   \n25381          2            3       109.90            833        0          0   \n25382         35            1        77.15            854        0          0   \n25383         48            1        43.38            599        0          0   \n25384         35            0         0.00           1921        0          0   \n25385          1            1        79.30           1732        0          0   \n\n       walkDistance  weaponsAcquired  winPlacePerc  \n0           3187.00                5        0.8000  \n1           1137.00               43        0.7143  \n2             29.57                9        0.4737  \n3             16.72               15        0.4167  \n4           2563.00               12        0.9333  \n...             ...              ...           ...  \n25381        186.30               13        1.0000  \n25382        225.80               17        0.6000  \n25383          0.00                4        0.9434  \n25384       2398.00                4        0.4167  \n25385       3103.00                4        1.0000  \n\n[25386 rows x 16 columns]",
      "text/html": "<div>\n<style scoped>\n    .dataframe tbody tr th:only-of-type {\n        vertical-align: middle;\n    }\n\n    .dataframe tbody tr th {\n        vertical-align: top;\n    }\n\n    .dataframe thead th {\n        text-align: right;\n    }\n</style>\n<table border=\"1\" class=\"dataframe\">\n  <thead>\n    <tr style=\"text-align: right;\">\n      <th></th>\n      <th>index</th>\n      <th>assists</th>\n      <th>boosts</th>\n      <th>damageDealt</th>\n      <th>DBNOs</th>\n      <th>headshotKills</th>\n      <th>heals</th>\n      <th>killPlace</th>\n      <th>killStreaks</th>\n      <th>longestKill</th>\n      <th>matchDuration</th>\n      <th>revives</th>\n      <th>teamKills</th>\n      <th>walkDistance</th>\n      <th>weaponsAcquired</th>\n      <th>winPlacePerc</th>\n    </tr>\n  </thead>\n  <tbody>\n    <tr>\n      <th>0</th>\n      <td>265</td>\n      <td>0</td>\n      <td>3</td>\n      <td>335.90</td>\n      <td>1</td>\n      <td>0</td>\n      <td>4</td>\n      <td>16</td>\n      <td>1</td>\n      <td>5.65</td>\n      <td>1950</td>\n      <td>0</td>\n      <td>0</td>\n      <td>3187.00</td>\n      <td>5</td>\n      <td>0.8000</td>\n    </tr>\n    <tr>\n      <th>1</th>\n      <td>1292</td>\n      <td>6</td>\n      <td>0</td>\n      <td>1750.00</td>\n      <td>0</td>\n      <td>6</td>\n      <td>2</td>\n      <td>7</td>\n      <td>3</td>\n      <td>69.88</td>\n      <td>1034</td>\n      <td>0</td>\n      <td>0</td>\n      <td>1137.00</td>\n      <td>43</td>\n      <td>0.7143</td>\n    </tr>\n    <tr>\n      <th>2</th>\n      <td>1351</td>\n      <td>2</td>\n      <td>0</td>\n      <td>655.20</td>\n      <td>0</td>\n      <td>2</td>\n      <td>0</td>\n      <td>11</td>\n      <td>3</td>\n      <td>1.48</td>\n      <td>492</td>\n      <td>0</td>\n      <td>0</td>\n      <td>29.57</td>\n      <td>9</td>\n      <td>0.4737</td>\n    </tr>\n    <tr>\n      <th>3</th>\n      <td>1417</td>\n      <td>2</td>\n      <td>0</td>\n      <td>245.20</td>\n      <td>0</td>\n      <td>0</td>\n      <td>10</td>\n      <td>45</td>\n      <td>1</td>\n      <td>19.80</td>\n      <td>697</td>\n      <td>0</td>\n      <td>0</td>\n      <td>16.72</td>\n      <td>15</td>\n      <td>0.4167</td>\n    </tr>\n    <tr>\n      <th>4</th>\n      <td>1649</td>\n      <td>2</td>\n      <td>6</td>\n      <td>89.14</td>\n      <td>0</td>\n      <td>0</td>\n      <td>7</td>\n      <td>32</td>\n      <td>0</td>\n      <td>0.00</td>\n      <td>1952</td>\n      <td>1</td>\n      <td>0</td>\n      <td>2563.00</td>\n      <td>12</td>\n      <td>0.9333</td>\n    </tr>\n    <tr>\n      <th>...</th>\n      <td>...</td>\n      <td>...</td>\n      <td>...</td>\n      <td>...</td>\n      <td>...</td>\n      <td>...</td>\n      <td>...</td>\n      <td>...</td>\n      <td>...</td>\n      <td>...</td>\n      <td>...</td>\n      <td>...</td>\n      <td>...</td>\n      <td>...</td>\n      <td>...</td>\n      <td>...</td>\n    </tr>\n    <tr>\n      <th>25381</th>\n      <td>4446353</td>\n      <td>1</td>\n      <td>4</td>\n      <td>1300.00</td>\n      <td>0</td>\n      <td>5</td>\n      <td>5</td>\n      <td>2</td>\n      <td>3</td>\n      <td>109.90</td>\n      <td>833</td>\n      <td>0</td>\n      <td>0</td>\n      <td>186.30</td>\n      <td>13</td>\n      <td>1.0000</td>\n    </tr>\n    <tr>\n      <th>25382</th>\n      <td>4446375</td>\n      <td>1</td>\n      <td>0</td>\n      <td>396.00</td>\n      <td>3</td>\n      <td>0</td>\n      <td>3</td>\n      <td>35</td>\n      <td>1</td>\n      <td>77.15</td>\n      <td>854</td>\n      <td>0</td>\n      <td>0</td>\n      <td>225.80</td>\n      <td>17</td>\n      <td>0.6000</td>\n    </tr>\n    <tr>\n      <th>25383</th>\n      <td>4446682</td>\n      <td>0</td>\n      <td>0</td>\n      <td>41.95</td>\n      <td>0</td>\n      <td>0</td>\n      <td>0</td>\n      <td>48</td>\n      <td>1</td>\n      <td>43.38</td>\n      <td>599</td>\n      <td>0</td>\n      <td>0</td>\n      <td>0.00</td>\n      <td>4</td>\n      <td>0.9434</td>\n    </tr>\n    <tr>\n      <th>25384</th>\n      <td>4446749</td>\n      <td>0</td>\n      <td>5</td>\n      <td>0.00</td>\n      <td>0</td>\n      <td>0</td>\n      <td>5</td>\n      <td>35</td>\n      <td>0</td>\n      <td>0.00</td>\n      <td>1921</td>\n      <td>0</td>\n      <td>0</td>\n      <td>2398.00</td>\n      <td>4</td>\n      <td>0.4167</td>\n    </tr>\n    <tr>\n      <th>25385</th>\n      <td>4446846</td>\n      <td>0</td>\n      <td>3</td>\n      <td>567.60</td>\n      <td>0</td>\n      <td>2</td>\n      <td>1</td>\n      <td>1</td>\n      <td>1</td>\n      <td>79.30</td>\n      <td>1732</td>\n      <td>0</td>\n      <td>0</td>\n      <td>3103.00</td>\n      <td>4</td>\n      <td>1.0000</td>\n    </tr>\n  </tbody>\n</table>\n<p>25386 rows × 16 columns</p>\n</div>"
     },
     "execution_count": 8,
     "metadata": {},
     "output_type": "execute_result"
    }
   ],
   "source": [
    "others = others.reset_index()\n",
    "others"
   ],
   "metadata": {
    "collapsed": false,
    "ExecuteTime": {
     "end_time": "2024-03-11T01:25:42.751958Z",
     "start_time": "2024-03-11T01:25:42.722800Z"
    }
   },
   "id": "3fec828342b3ce57",
   "execution_count": 8
  },
  {
   "cell_type": "code",
   "outputs": [],
   "source": [
    "# 피처와 타겟 분리\n",
    "\n",
    "target = others[others.columns[-1]]\n",
    "feature = others[others.columns[:-1]]"
   ],
   "metadata": {
    "collapsed": false,
    "ExecuteTime": {
     "end_time": "2024-03-11T01:25:42.766678Z",
     "start_time": "2024-03-11T01:25:42.754287Z"
    }
   },
   "id": "20bc3110fb9d4f36",
   "execution_count": 9
  },
  {
   "cell_type": "code",
   "outputs": [
    {
     "data": {
      "text/plain": "0        0.8000\n1        0.7143\n2        0.4737\n3        0.4167\n4        0.9333\n          ...  \n25381    1.0000\n25382    0.6000\n25383    0.9434\n25384    0.4167\n25385    1.0000\nName: winPlacePerc, Length: 25386, dtype: float64"
     },
     "execution_count": 10,
     "metadata": {},
     "output_type": "execute_result"
    }
   ],
   "source": [
    "target"
   ],
   "metadata": {
    "collapsed": false,
    "ExecuteTime": {
     "end_time": "2024-03-11T01:25:42.782358Z",
     "start_time": "2024-03-11T01:25:42.768729Z"
    }
   },
   "id": "eaa24b16304b9e89",
   "execution_count": 10
  },
  {
   "cell_type": "code",
   "outputs": [
    {
     "data": {
      "text/plain": "index              0\nassists            0\nboosts             0\ndamageDealt        0\nDBNOs              0\nheadshotKills      0\nheals              0\nkillPlace          0\nkillStreaks        0\nlongestKill        0\nmatchDuration      0\nrevives            0\nteamKills          0\nwalkDistance       0\nweaponsAcquired    0\nwinPlacePerc       0\ndtype: int64"
     },
     "execution_count": 11,
     "metadata": {},
     "output_type": "execute_result"
    }
   ],
   "source": [
    "#others.isnull().sum()\n",
    "others.isna().sum()"
   ],
   "metadata": {
    "collapsed": false,
    "ExecuteTime": {
     "end_time": "2024-03-11T01:25:42.797737Z",
     "start_time": "2024-03-11T01:25:42.784492Z"
    }
   },
   "id": "c9a8d067453840f0",
   "execution_count": 11
  },
  {
   "cell_type": "code",
   "outputs": [
    {
     "data": {
      "text/plain": "0         5\n1        43\n2         9\n3        15\n4        12\n         ..\n25381    13\n25382    17\n25383     4\n25384     4\n25385     4\nName: weaponsAcquired, Length: 25386, dtype: int64"
     },
     "execution_count": 12,
     "metadata": {},
     "output_type": "execute_result"
    }
   ],
   "source": [
    "feature.weaponsAcquired\n",
    "#feature.walkDistance"
   ],
   "metadata": {
    "collapsed": false,
    "ExecuteTime": {
     "end_time": "2024-03-11T01:25:42.813654Z",
     "start_time": "2024-03-11T01:25:42.800204Z"
    }
   },
   "id": "5446107d1bac866e",
   "execution_count": 12
  },
  {
   "cell_type": "code",
   "outputs": [],
   "source": [
    "from sklearn.model_selection import train_test_split\n",
    "\n",
    "xtrain, xtest, ytrain, ytest = train_test_split(feature, target, test_size = 0.3)"
   ],
   "metadata": {
    "collapsed": false,
    "ExecuteTime": {
     "end_time": "2024-03-11T01:25:43.300167Z",
     "start_time": "2024-03-11T01:25:42.816624Z"
    }
   },
   "id": "6a4cda594dca7cbf",
   "execution_count": 13
  },
  {
   "cell_type": "code",
   "outputs": [],
   "source": [
    "from sklearn.preprocessing import StandardScaler\n",
    "\n",
    "scaler = StandardScaler()\n",
    "scaler.fit(xtrain)\n",
    "scaler.fit(xtest)\n",
    "\n",
    "xtrain_scaled = scaler.transform(xtrain)\n",
    "xtest_scaled = scaler.transform(xtest)"
   ],
   "metadata": {
    "collapsed": false,
    "ExecuteTime": {
     "end_time": "2024-03-11T01:25:43.346601Z",
     "start_time": "2024-03-11T01:25:43.313012Z"
    }
   },
   "id": "42478bf9ab20aeeb",
   "execution_count": 14
  },
  {
   "cell_type": "code",
   "outputs": [],
   "source": [
    "from sklearn.linear_model import LinearRegression"
   ],
   "metadata": {
    "collapsed": false,
    "ExecuteTime": {
     "end_time": "2024-03-11T01:25:43.456427Z",
     "start_time": "2024-03-11T01:25:43.349666Z"
    }
   },
   "id": "793e627b6e0ca746",
   "execution_count": 15
  },
  {
   "cell_type": "code",
   "outputs": [
    {
     "data": {
      "text/plain": "LinearRegression()",
      "text/html": "<style>#sk-container-id-1 {color: black;}#sk-container-id-1 pre{padding: 0;}#sk-container-id-1 div.sk-toggleable {background-color: white;}#sk-container-id-1 label.sk-toggleable__label {cursor: pointer;display: block;width: 100%;margin-bottom: 0;padding: 0.3em;box-sizing: border-box;text-align: center;}#sk-container-id-1 label.sk-toggleable__label-arrow:before {content: \"▸\";float: left;margin-right: 0.25em;color: #696969;}#sk-container-id-1 label.sk-toggleable__label-arrow:hover:before {color: black;}#sk-container-id-1 div.sk-estimator:hover label.sk-toggleable__label-arrow:before {color: black;}#sk-container-id-1 div.sk-toggleable__content {max-height: 0;max-width: 0;overflow: hidden;text-align: left;background-color: #f0f8ff;}#sk-container-id-1 div.sk-toggleable__content pre {margin: 0.2em;color: black;border-radius: 0.25em;background-color: #f0f8ff;}#sk-container-id-1 input.sk-toggleable__control:checked~div.sk-toggleable__content {max-height: 200px;max-width: 100%;overflow: auto;}#sk-container-id-1 input.sk-toggleable__control:checked~label.sk-toggleable__label-arrow:before {content: \"▾\";}#sk-container-id-1 div.sk-estimator input.sk-toggleable__control:checked~label.sk-toggleable__label {background-color: #d4ebff;}#sk-container-id-1 div.sk-label input.sk-toggleable__control:checked~label.sk-toggleable__label {background-color: #d4ebff;}#sk-container-id-1 input.sk-hidden--visually {border: 0;clip: rect(1px 1px 1px 1px);clip: rect(1px, 1px, 1px, 1px);height: 1px;margin: -1px;overflow: hidden;padding: 0;position: absolute;width: 1px;}#sk-container-id-1 div.sk-estimator {font-family: monospace;background-color: #f0f8ff;border: 1px dotted black;border-radius: 0.25em;box-sizing: border-box;margin-bottom: 0.5em;}#sk-container-id-1 div.sk-estimator:hover {background-color: #d4ebff;}#sk-container-id-1 div.sk-parallel-item::after {content: \"\";width: 100%;border-bottom: 1px solid gray;flex-grow: 1;}#sk-container-id-1 div.sk-label:hover label.sk-toggleable__label {background-color: #d4ebff;}#sk-container-id-1 div.sk-serial::before {content: \"\";position: absolute;border-left: 1px solid gray;box-sizing: border-box;top: 0;bottom: 0;left: 50%;z-index: 0;}#sk-container-id-1 div.sk-serial {display: flex;flex-direction: column;align-items: center;background-color: white;padding-right: 0.2em;padding-left: 0.2em;position: relative;}#sk-container-id-1 div.sk-item {position: relative;z-index: 1;}#sk-container-id-1 div.sk-parallel {display: flex;align-items: stretch;justify-content: center;background-color: white;position: relative;}#sk-container-id-1 div.sk-item::before, #sk-container-id-1 div.sk-parallel-item::before {content: \"\";position: absolute;border-left: 1px solid gray;box-sizing: border-box;top: 0;bottom: 0;left: 50%;z-index: -1;}#sk-container-id-1 div.sk-parallel-item {display: flex;flex-direction: column;z-index: 1;position: relative;background-color: white;}#sk-container-id-1 div.sk-parallel-item:first-child::after {align-self: flex-end;width: 50%;}#sk-container-id-1 div.sk-parallel-item:last-child::after {align-self: flex-start;width: 50%;}#sk-container-id-1 div.sk-parallel-item:only-child::after {width: 0;}#sk-container-id-1 div.sk-dashed-wrapped {border: 1px dashed gray;margin: 0 0.4em 0.5em 0.4em;box-sizing: border-box;padding-bottom: 0.4em;background-color: white;}#sk-container-id-1 div.sk-label label {font-family: monospace;font-weight: bold;display: inline-block;line-height: 1.2em;}#sk-container-id-1 div.sk-label-container {text-align: center;}#sk-container-id-1 div.sk-container {/* jupyter's `normalize.less` sets `[hidden] { display: none; }` but bootstrap.min.css set `[hidden] { display: none !important; }` so we also need the `!important` here to be able to override the default hidden behavior on the sphinx rendered scikit-learn.org. See: https://github.com/scikit-learn/scikit-learn/issues/21755 */display: inline-block !important;position: relative;}#sk-container-id-1 div.sk-text-repr-fallback {display: none;}</style><div id=\"sk-container-id-1\" class=\"sk-top-container\"><div class=\"sk-text-repr-fallback\"><pre>LinearRegression()</pre><b>In a Jupyter environment, please rerun this cell to show the HTML representation or trust the notebook. <br />On GitHub, the HTML representation is unable to render, please try loading this page with nbviewer.org.</b></div><div class=\"sk-container\" hidden><div class=\"sk-item\"><div class=\"sk-estimator sk-toggleable\"><input class=\"sk-toggleable__control sk-hidden--visually\" id=\"sk-estimator-id-1\" type=\"checkbox\" checked><label for=\"sk-estimator-id-1\" class=\"sk-toggleable__label sk-toggleable__label-arrow\">LinearRegression</label><div class=\"sk-toggleable__content\"><pre>LinearRegression()</pre></div></div></div></div></div>"
     },
     "execution_count": 16,
     "metadata": {},
     "output_type": "execute_result"
    }
   ],
   "source": [
    "lrmodel = LinearRegression()\n",
    "lrmodel.fit(xtrain_scaled, ytrain)"
   ],
   "metadata": {
    "collapsed": false,
    "ExecuteTime": {
     "end_time": "2024-03-11T01:25:43.625936Z",
     "start_time": "2024-03-11T01:25:43.461716Z"
    }
   },
   "id": "e1cf8e52820f41f9",
   "execution_count": 16
  },
  {
   "cell_type": "code",
   "outputs": [
    {
     "data": {
      "text/plain": "0.3564603647782606"
     },
     "execution_count": 17,
     "metadata": {},
     "output_type": "execute_result"
    }
   ],
   "source": [
    "lrmodel.score(xtrain_scaled, ytrain)"
   ],
   "metadata": {
    "collapsed": false,
    "ExecuteTime": {
     "end_time": "2024-03-11T01:25:43.642392Z",
     "start_time": "2024-03-11T01:25:43.627490Z"
    }
   },
   "id": "7a6024274d17bcf3",
   "execution_count": 17
  },
  {
   "cell_type": "code",
   "outputs": [],
   "source": [
    "from sklearn.ensemble import RandomForestRegressor\n",
    "from sklearn.model_selection import cross_val_score"
   ],
   "metadata": {
    "collapsed": false,
    "ExecuteTime": {
     "end_time": "2024-03-11T01:25:43.812392Z",
     "start_time": "2024-03-11T01:25:43.643951Z"
    }
   },
   "id": "1082df753fb41115",
   "execution_count": 18
  },
  {
   "cell_type": "code",
   "outputs": [],
   "source": [
    "rf = RandomForestRegressor(random_state=0)"
   ],
   "metadata": {
    "collapsed": false,
    "ExecuteTime": {
     "end_time": "2024-03-11T01:25:43.828496Z",
     "start_time": "2024-03-11T01:25:43.813389Z"
    }
   },
   "id": "8797163c6e7c75e5",
   "execution_count": 19
  },
  {
   "cell_type": "code",
   "outputs": [
    {
     "data": {
      "text/plain": "RandomForestRegressor(random_state=0)",
      "text/html": "<style>#sk-container-id-2 {color: black;}#sk-container-id-2 pre{padding: 0;}#sk-container-id-2 div.sk-toggleable {background-color: white;}#sk-container-id-2 label.sk-toggleable__label {cursor: pointer;display: block;width: 100%;margin-bottom: 0;padding: 0.3em;box-sizing: border-box;text-align: center;}#sk-container-id-2 label.sk-toggleable__label-arrow:before {content: \"▸\";float: left;margin-right: 0.25em;color: #696969;}#sk-container-id-2 label.sk-toggleable__label-arrow:hover:before {color: black;}#sk-container-id-2 div.sk-estimator:hover label.sk-toggleable__label-arrow:before {color: black;}#sk-container-id-2 div.sk-toggleable__content {max-height: 0;max-width: 0;overflow: hidden;text-align: left;background-color: #f0f8ff;}#sk-container-id-2 div.sk-toggleable__content pre {margin: 0.2em;color: black;border-radius: 0.25em;background-color: #f0f8ff;}#sk-container-id-2 input.sk-toggleable__control:checked~div.sk-toggleable__content {max-height: 200px;max-width: 100%;overflow: auto;}#sk-container-id-2 input.sk-toggleable__control:checked~label.sk-toggleable__label-arrow:before {content: \"▾\";}#sk-container-id-2 div.sk-estimator input.sk-toggleable__control:checked~label.sk-toggleable__label {background-color: #d4ebff;}#sk-container-id-2 div.sk-label input.sk-toggleable__control:checked~label.sk-toggleable__label {background-color: #d4ebff;}#sk-container-id-2 input.sk-hidden--visually {border: 0;clip: rect(1px 1px 1px 1px);clip: rect(1px, 1px, 1px, 1px);height: 1px;margin: -1px;overflow: hidden;padding: 0;position: absolute;width: 1px;}#sk-container-id-2 div.sk-estimator {font-family: monospace;background-color: #f0f8ff;border: 1px dotted black;border-radius: 0.25em;box-sizing: border-box;margin-bottom: 0.5em;}#sk-container-id-2 div.sk-estimator:hover {background-color: #d4ebff;}#sk-container-id-2 div.sk-parallel-item::after {content: \"\";width: 100%;border-bottom: 1px solid gray;flex-grow: 1;}#sk-container-id-2 div.sk-label:hover label.sk-toggleable__label {background-color: #d4ebff;}#sk-container-id-2 div.sk-serial::before {content: \"\";position: absolute;border-left: 1px solid gray;box-sizing: border-box;top: 0;bottom: 0;left: 50%;z-index: 0;}#sk-container-id-2 div.sk-serial {display: flex;flex-direction: column;align-items: center;background-color: white;padding-right: 0.2em;padding-left: 0.2em;position: relative;}#sk-container-id-2 div.sk-item {position: relative;z-index: 1;}#sk-container-id-2 div.sk-parallel {display: flex;align-items: stretch;justify-content: center;background-color: white;position: relative;}#sk-container-id-2 div.sk-item::before, #sk-container-id-2 div.sk-parallel-item::before {content: \"\";position: absolute;border-left: 1px solid gray;box-sizing: border-box;top: 0;bottom: 0;left: 50%;z-index: -1;}#sk-container-id-2 div.sk-parallel-item {display: flex;flex-direction: column;z-index: 1;position: relative;background-color: white;}#sk-container-id-2 div.sk-parallel-item:first-child::after {align-self: flex-end;width: 50%;}#sk-container-id-2 div.sk-parallel-item:last-child::after {align-self: flex-start;width: 50%;}#sk-container-id-2 div.sk-parallel-item:only-child::after {width: 0;}#sk-container-id-2 div.sk-dashed-wrapped {border: 1px dashed gray;margin: 0 0.4em 0.5em 0.4em;box-sizing: border-box;padding-bottom: 0.4em;background-color: white;}#sk-container-id-2 div.sk-label label {font-family: monospace;font-weight: bold;display: inline-block;line-height: 1.2em;}#sk-container-id-2 div.sk-label-container {text-align: center;}#sk-container-id-2 div.sk-container {/* jupyter's `normalize.less` sets `[hidden] { display: none; }` but bootstrap.min.css set `[hidden] { display: none !important; }` so we also need the `!important` here to be able to override the default hidden behavior on the sphinx rendered scikit-learn.org. See: https://github.com/scikit-learn/scikit-learn/issues/21755 */display: inline-block !important;position: relative;}#sk-container-id-2 div.sk-text-repr-fallback {display: none;}</style><div id=\"sk-container-id-2\" class=\"sk-top-container\"><div class=\"sk-text-repr-fallback\"><pre>RandomForestRegressor(random_state=0)</pre><b>In a Jupyter environment, please rerun this cell to show the HTML representation or trust the notebook. <br />On GitHub, the HTML representation is unable to render, please try loading this page with nbviewer.org.</b></div><div class=\"sk-container\" hidden><div class=\"sk-item\"><div class=\"sk-estimator sk-toggleable\"><input class=\"sk-toggleable__control sk-hidden--visually\" id=\"sk-estimator-id-2\" type=\"checkbox\" checked><label for=\"sk-estimator-id-2\" class=\"sk-toggleable__label sk-toggleable__label-arrow\">RandomForestRegressor</label><div class=\"sk-toggleable__content\"><pre>RandomForestRegressor(random_state=0)</pre></div></div></div></div></div>"
     },
     "execution_count": 20,
     "metadata": {},
     "output_type": "execute_result"
    }
   ],
   "source": [
    "rf.fit(xtrain_scaled, ytrain)"
   ],
   "metadata": {
    "collapsed": false,
    "ExecuteTime": {
     "end_time": "2024-03-11T01:26:19.036653Z",
     "start_time": "2024-03-11T01:25:43.829493Z"
    }
   },
   "id": "a0cb8e851120f270",
   "execution_count": 20
  },
  {
   "cell_type": "code",
   "outputs": [
    {
     "data": {
      "text/plain": "0.9278000314502156"
     },
     "execution_count": 21,
     "metadata": {},
     "output_type": "execute_result"
    }
   ],
   "source": [
    "rf.score(xtrain_scaled, ytrain)"
   ],
   "metadata": {
    "collapsed": false,
    "ExecuteTime": {
     "end_time": "2024-03-11T01:26:19.424037Z",
     "start_time": "2024-03-11T01:26:19.037698Z"
    }
   },
   "id": "64782a50767899d6",
   "execution_count": 21
  },
  {
   "cell_type": "code",
   "outputs": [
    {
     "data": {
      "text/plain": "0.4920635866925318"
     },
     "execution_count": 22,
     "metadata": {},
     "output_type": "execute_result"
    }
   ],
   "source": [
    "rf.score(xtest_scaled, ytest)"
   ],
   "metadata": {
    "collapsed": false,
    "ExecuteTime": {
     "end_time": "2024-03-11T01:26:19.624989Z",
     "start_time": "2024-03-11T01:26:19.426091Z"
    }
   },
   "id": "c57f2ef886e97589",
   "execution_count": 22
  },
  {
   "cell_type": "code",
   "outputs": [],
   "source": [
    "from sklearn.metrics import mean_squared_error, r2_score, mean_absolute_error"
   ],
   "metadata": {
    "collapsed": false,
    "ExecuteTime": {
     "end_time": "2024-03-11T01:26:19.639945Z",
     "start_time": "2024-03-11T01:26:19.625986Z"
    }
   },
   "id": "549475b3345c3581",
   "execution_count": 23
  },
  {
   "cell_type": "code",
   "outputs": [],
   "source": [
    "y_pred = rf.predict(xtest_scaled)"
   ],
   "metadata": {
    "collapsed": false,
    "ExecuteTime": {
     "end_time": "2024-03-11T01:26:19.826241Z",
     "start_time": "2024-03-11T01:26:19.642057Z"
    }
   },
   "id": "d925ea0c2dbb5bf1",
   "execution_count": 24
  },
  {
   "cell_type": "code",
   "outputs": [],
   "source": [
    "mse = mean_squared_error(ytest, y_pred)\n",
    "mae = mean_absolute_error(ytest, y_pred)\n",
    "r2 = r2_score(ytest, y_pred)"
   ],
   "metadata": {
    "collapsed": false,
    "ExecuteTime": {
     "end_time": "2024-03-11T01:26:19.841655Z",
     "start_time": "2024-03-11T01:26:19.827819Z"
    }
   },
   "id": "38acff2992104339",
   "execution_count": 25
  },
  {
   "cell_type": "markdown",
   "source": [],
   "metadata": {
    "collapsed": false
   },
   "id": "cef4d6e6a01e3fda"
  },
  {
   "cell_type": "code",
   "outputs": [
    {
     "name": "stdout",
     "output_type": "stream",
     "text": [
      " [MeanSquaredError]: 0.052135679385011166\n",
      " [Mean Absolute Error]: 0.17402394078256303\n",
      " [R2] : 0.4920635866925318 \n"
     ]
    }
   ],
   "source": [
    "print(f' [MeanSquaredError]: {mse}\\n [Mean Absolute Error]: {mae}\\n [R2] : {r2} ')"
   ],
   "metadata": {
    "collapsed": false,
    "ExecuteTime": {
     "end_time": "2024-03-11T01:26:19.857551Z",
     "start_time": "2024-03-11T01:26:19.842653Z"
    }
   },
   "id": "cbc76532182646a3",
   "execution_count": 26
  },
  {
   "cell_type": "code",
   "outputs": [],
   "source": [],
   "metadata": {
    "collapsed": false,
    "ExecuteTime": {
     "end_time": "2024-03-11T01:26:19.872576Z",
     "start_time": "2024-03-11T01:26:19.858575Z"
    }
   },
   "id": "dadf3e33745e109e",
   "execution_count": 26
  }
 ],
 "metadata": {
  "kernelspec": {
   "display_name": "Python 3",
   "language": "python",
   "name": "python3"
  },
  "language_info": {
   "codemirror_mode": {
    "name": "ipython",
    "version": 2
   },
   "file_extension": ".py",
   "mimetype": "text/x-python",
   "name": "python",
   "nbconvert_exporter": "python",
   "pygments_lexer": "ipython2",
   "version": "2.7.6"
  }
 },
 "nbformat": 4,
 "nbformat_minor": 5
}
