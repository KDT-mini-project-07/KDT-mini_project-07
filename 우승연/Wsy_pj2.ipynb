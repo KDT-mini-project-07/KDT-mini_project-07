{
 "cells": [
  {
   "cell_type": "code",
   "execution_count": 17,
   "id": "initial_id",
   "metadata": {
    "collapsed": true,
    "ExecuteTime": {
     "end_time": "2024-03-11T01:44:37.701030Z",
     "start_time": "2024-03-11T01:44:22.456299Z"
    }
   },
   "outputs": [
    {
     "data": {
      "text/plain": "                     Id         groupId         matchId  assists  boosts  \\\n0        7f96b2f878858a  4d4b580de459be  a10357fd1a4a91        0       0   \n1        eef90569b9d03c  684d5656442f9e  aeb375fc57110c        0       0   \n2        1eaf90ac73de72  6a4a42c3245a74  110163d8bb94ae        1       0   \n3        4616d365dd2853  a930a9c79cd721  f1f1f4ef412d7e        0       0   \n4        315c96c26c9aac  de04010b3458dd  6dc8ff871e21e6        0       0   \n...                 ...             ...             ...      ...     ...   \n4446961  afff7f652dbc10  d238e426f50de7  18492834ce5635        0       0   \n4446962  f4197cf374e6c0  408cdb5c46b2ac  ee854b837376d9        0       1   \n4446963  e1948b1295c88a  e26ac84bdf7cef  6d0cd12784f1ab        0       0   \n4446964  cc032cdd73b7ac  c2223f35411394  c9c701d0ad758a        0       4   \n4446965  0d8e7ed728b6fd  8c74f72fedf5ff  62a16aabcc095c        0       2   \n\n         damageDealt  DBNOs  headshotKills  heals  killPlace  ...  revives  \\\n0               0.00      0              0      0         60  ...        0   \n1              91.47      0              0      0         57  ...        0   \n2              68.00      0              0      0         47  ...        0   \n3              32.90      0              0      0         75  ...        0   \n4             100.00      0              0      0         45  ...        0   \n...              ...    ...            ...    ...        ...  ...      ...   \n4446961         0.00      0              0      0         74  ...        0   \n4446962        44.15      0              0      0         69  ...        0   \n4446963        59.06      0              0      0         66  ...        0   \n4446964       180.40      1              1      2         11  ...        2   \n4446965       268.00      0              0      1         18  ...        0   \n\n         rideDistance  roadKills  swimDistance  teamKills vehicleDestroys  \\\n0              0.0000          0         0.000          0               0   \n1              0.0045          0        11.040          0               0   \n2              0.0000          0         0.000          0               0   \n3              0.0000          0         0.000          0               0   \n4              0.0000          0         0.000          0               0   \n...               ...        ...           ...        ...             ...   \n4446961     1292.0000          0         0.000          0               0   \n4446962        0.0000          0         0.000          0               0   \n4446963        0.0000          0         2.184          0               0   \n4446964        0.0000          0         0.000          0               0   \n4446965     1369.0000          0         0.000          0               0   \n\n         walkDistance  weaponsAcquired  winPoints  winPlacePerc  \n0              244.80                1       1466        0.4444  \n1             1434.00                5          0        0.6400  \n2              161.80                2          0        0.7755  \n3              202.70                3          0        0.1667  \n4               49.75                2          0        0.1875  \n...               ...              ...        ...           ...  \n4446961       1019.00                3       1507        0.1786  \n4446962         81.70                6          0        0.2935  \n4446963        788.70                4          0        0.4815  \n4446964       2748.00                8          0        0.8000  \n4446965       1244.00                5          0        0.5464  \n\n[4446966 rows x 29 columns]",
      "text/html": "<div>\n<style scoped>\n    .dataframe tbody tr th:only-of-type {\n        vertical-align: middle;\n    }\n\n    .dataframe tbody tr th {\n        vertical-align: top;\n    }\n\n    .dataframe thead th {\n        text-align: right;\n    }\n</style>\n<table border=\"1\" class=\"dataframe\">\n  <thead>\n    <tr style=\"text-align: right;\">\n      <th></th>\n      <th>Id</th>\n      <th>groupId</th>\n      <th>matchId</th>\n      <th>assists</th>\n      <th>boosts</th>\n      <th>damageDealt</th>\n      <th>DBNOs</th>\n      <th>headshotKills</th>\n      <th>heals</th>\n      <th>killPlace</th>\n      <th>...</th>\n      <th>revives</th>\n      <th>rideDistance</th>\n      <th>roadKills</th>\n      <th>swimDistance</th>\n      <th>teamKills</th>\n      <th>vehicleDestroys</th>\n      <th>walkDistance</th>\n      <th>weaponsAcquired</th>\n      <th>winPoints</th>\n      <th>winPlacePerc</th>\n    </tr>\n  </thead>\n  <tbody>\n    <tr>\n      <th>0</th>\n      <td>7f96b2f878858a</td>\n      <td>4d4b580de459be</td>\n      <td>a10357fd1a4a91</td>\n      <td>0</td>\n      <td>0</td>\n      <td>0.00</td>\n      <td>0</td>\n      <td>0</td>\n      <td>0</td>\n      <td>60</td>\n      <td>...</td>\n      <td>0</td>\n      <td>0.0000</td>\n      <td>0</td>\n      <td>0.000</td>\n      <td>0</td>\n      <td>0</td>\n      <td>244.80</td>\n      <td>1</td>\n      <td>1466</td>\n      <td>0.4444</td>\n    </tr>\n    <tr>\n      <th>1</th>\n      <td>eef90569b9d03c</td>\n      <td>684d5656442f9e</td>\n      <td>aeb375fc57110c</td>\n      <td>0</td>\n      <td>0</td>\n      <td>91.47</td>\n      <td>0</td>\n      <td>0</td>\n      <td>0</td>\n      <td>57</td>\n      <td>...</td>\n      <td>0</td>\n      <td>0.0045</td>\n      <td>0</td>\n      <td>11.040</td>\n      <td>0</td>\n      <td>0</td>\n      <td>1434.00</td>\n      <td>5</td>\n      <td>0</td>\n      <td>0.6400</td>\n    </tr>\n    <tr>\n      <th>2</th>\n      <td>1eaf90ac73de72</td>\n      <td>6a4a42c3245a74</td>\n      <td>110163d8bb94ae</td>\n      <td>1</td>\n      <td>0</td>\n      <td>68.00</td>\n      <td>0</td>\n      <td>0</td>\n      <td>0</td>\n      <td>47</td>\n      <td>...</td>\n      <td>0</td>\n      <td>0.0000</td>\n      <td>0</td>\n      <td>0.000</td>\n      <td>0</td>\n      <td>0</td>\n      <td>161.80</td>\n      <td>2</td>\n      <td>0</td>\n      <td>0.7755</td>\n    </tr>\n    <tr>\n      <th>3</th>\n      <td>4616d365dd2853</td>\n      <td>a930a9c79cd721</td>\n      <td>f1f1f4ef412d7e</td>\n      <td>0</td>\n      <td>0</td>\n      <td>32.90</td>\n      <td>0</td>\n      <td>0</td>\n      <td>0</td>\n      <td>75</td>\n      <td>...</td>\n      <td>0</td>\n      <td>0.0000</td>\n      <td>0</td>\n      <td>0.000</td>\n      <td>0</td>\n      <td>0</td>\n      <td>202.70</td>\n      <td>3</td>\n      <td>0</td>\n      <td>0.1667</td>\n    </tr>\n    <tr>\n      <th>4</th>\n      <td>315c96c26c9aac</td>\n      <td>de04010b3458dd</td>\n      <td>6dc8ff871e21e6</td>\n      <td>0</td>\n      <td>0</td>\n      <td>100.00</td>\n      <td>0</td>\n      <td>0</td>\n      <td>0</td>\n      <td>45</td>\n      <td>...</td>\n      <td>0</td>\n      <td>0.0000</td>\n      <td>0</td>\n      <td>0.000</td>\n      <td>0</td>\n      <td>0</td>\n      <td>49.75</td>\n      <td>2</td>\n      <td>0</td>\n      <td>0.1875</td>\n    </tr>\n    <tr>\n      <th>...</th>\n      <td>...</td>\n      <td>...</td>\n      <td>...</td>\n      <td>...</td>\n      <td>...</td>\n      <td>...</td>\n      <td>...</td>\n      <td>...</td>\n      <td>...</td>\n      <td>...</td>\n      <td>...</td>\n      <td>...</td>\n      <td>...</td>\n      <td>...</td>\n      <td>...</td>\n      <td>...</td>\n      <td>...</td>\n      <td>...</td>\n      <td>...</td>\n      <td>...</td>\n      <td>...</td>\n    </tr>\n    <tr>\n      <th>4446961</th>\n      <td>afff7f652dbc10</td>\n      <td>d238e426f50de7</td>\n      <td>18492834ce5635</td>\n      <td>0</td>\n      <td>0</td>\n      <td>0.00</td>\n      <td>0</td>\n      <td>0</td>\n      <td>0</td>\n      <td>74</td>\n      <td>...</td>\n      <td>0</td>\n      <td>1292.0000</td>\n      <td>0</td>\n      <td>0.000</td>\n      <td>0</td>\n      <td>0</td>\n      <td>1019.00</td>\n      <td>3</td>\n      <td>1507</td>\n      <td>0.1786</td>\n    </tr>\n    <tr>\n      <th>4446962</th>\n      <td>f4197cf374e6c0</td>\n      <td>408cdb5c46b2ac</td>\n      <td>ee854b837376d9</td>\n      <td>0</td>\n      <td>1</td>\n      <td>44.15</td>\n      <td>0</td>\n      <td>0</td>\n      <td>0</td>\n      <td>69</td>\n      <td>...</td>\n      <td>0</td>\n      <td>0.0000</td>\n      <td>0</td>\n      <td>0.000</td>\n      <td>0</td>\n      <td>0</td>\n      <td>81.70</td>\n      <td>6</td>\n      <td>0</td>\n      <td>0.2935</td>\n    </tr>\n    <tr>\n      <th>4446963</th>\n      <td>e1948b1295c88a</td>\n      <td>e26ac84bdf7cef</td>\n      <td>6d0cd12784f1ab</td>\n      <td>0</td>\n      <td>0</td>\n      <td>59.06</td>\n      <td>0</td>\n      <td>0</td>\n      <td>0</td>\n      <td>66</td>\n      <td>...</td>\n      <td>0</td>\n      <td>0.0000</td>\n      <td>0</td>\n      <td>2.184</td>\n      <td>0</td>\n      <td>0</td>\n      <td>788.70</td>\n      <td>4</td>\n      <td>0</td>\n      <td>0.4815</td>\n    </tr>\n    <tr>\n      <th>4446964</th>\n      <td>cc032cdd73b7ac</td>\n      <td>c2223f35411394</td>\n      <td>c9c701d0ad758a</td>\n      <td>0</td>\n      <td>4</td>\n      <td>180.40</td>\n      <td>1</td>\n      <td>1</td>\n      <td>2</td>\n      <td>11</td>\n      <td>...</td>\n      <td>2</td>\n      <td>0.0000</td>\n      <td>0</td>\n      <td>0.000</td>\n      <td>0</td>\n      <td>0</td>\n      <td>2748.00</td>\n      <td>8</td>\n      <td>0</td>\n      <td>0.8000</td>\n    </tr>\n    <tr>\n      <th>4446965</th>\n      <td>0d8e7ed728b6fd</td>\n      <td>8c74f72fedf5ff</td>\n      <td>62a16aabcc095c</td>\n      <td>0</td>\n      <td>2</td>\n      <td>268.00</td>\n      <td>0</td>\n      <td>0</td>\n      <td>1</td>\n      <td>18</td>\n      <td>...</td>\n      <td>0</td>\n      <td>1369.0000</td>\n      <td>0</td>\n      <td>0.000</td>\n      <td>0</td>\n      <td>0</td>\n      <td>1244.00</td>\n      <td>5</td>\n      <td>0</td>\n      <td>0.5464</td>\n    </tr>\n  </tbody>\n</table>\n<p>4446966 rows × 29 columns</p>\n</div>"
     },
     "execution_count": 17,
     "metadata": {},
     "output_type": "execute_result"
    }
   ],
   "source": [
    "# 모듈 로딩\n",
    "import pandas as pd\n",
    "import matplotlib.pyplot as plt\n",
    "\n",
    "#성능평가 모듈\n",
    "from sklearn.metrics import mean_squared_error, r2_score, mean_absolute_error, mean_absolute_percentage_error\n",
    "\n",
    "#데이터 준비\n",
    "\n",
    "data = pd.read_csv('../datas/train_V2.csv')\n",
    "#sample = pd.read_csv('../datas/sample_submission_V2.csv')\n",
    "#컬럼명 확인하고 필요 없는 거 날리기\n",
    "data\n"
   ]
  },
  {
   "cell_type": "code",
   "outputs": [],
   "source": [
    "#winpoints와 rankpoints: 버전만 다른 같은 데이터라 합쳐버림\n",
    "newcol = data[['winPoints', 'rankPoints']]\n",
    "winrank = newcol.sum(axis = 1)\n"
   ],
   "metadata": {
    "collapsed": false,
    "ExecuteTime": {
     "end_time": "2024-03-11T01:44:38.060868Z",
     "start_time": "2024-03-11T01:44:37.706228Z"
    }
   },
   "id": "3495b0f3abd2e0d5",
   "execution_count": 18
  },
  {
   "cell_type": "code",
   "outputs": [],
   "source": [
    "usingdata = data.drop(['Id', 'groupId', 'matchId','maxPlace', 'killPoints', 'kills', 'rankPoints', 'rideDistance', 'roadKills', 'swimDistance', 'vehicleDestroys', 'winPoints'], axis=1)\n",
    "usingdata['winRank'] = winrank\n",
    "\n",
    "usingdata.columns\n",
    "usingdata = usingdata[['assists', 'boosts', 'damageDealt', 'DBNOs', 'headshotKills', 'heals',\n",
    "       'killPlace', 'killStreaks', 'longestKill', 'matchDuration', 'matchType',\n",
    "       'numGroups', 'revives', 'teamKills', 'walkDistance', 'weaponsAcquired',\n",
    "       'winRank','winPlacePerc', ]]"
   ],
   "metadata": {
    "collapsed": false,
    "ExecuteTime": {
     "end_time": "2024-03-11T01:44:38.848253Z",
     "start_time": "2024-03-11T01:44:38.062398Z"
    }
   },
   "id": "1135250f7421b458",
   "execution_count": 19
  },
  {
   "cell_type": "code",
   "outputs": [],
   "source": [
    "# 게임별로 쪼개기\n",
    "#normal_solo_fpp \n",
    "mask1 = usingdata['matchType'].isin(['normal-solo-fpp'])\n",
    "nsolo_fpp = usingdata[mask1].drop(['matchType'], axis=1)\n",
    "nsolo_fpp = nsolo_fpp.reset_index(drop=True)\n",
    "\n",
    "#normal_duo_fpp\n",
    "mask2 = usingdata['matchType'].isin(['normal-duo-fpp'])\n",
    "nduo_fpp = usingdata[mask2].drop(['matchType'], axis=1)\n",
    "nduo_fpp = nduo_fpp.reset_index(drop=True)\n",
    "\n",
    "#normal_squad_fpp\n",
    "mask3 = usingdata['matchType'].isin(['normal-squad-fpp'])\n",
    "nsquad_fpp = usingdata[mask3].drop(['matchType'], axis=1)\n",
    "nsquad_fpp = nsquad_fpp.reset_index(drop=True)\n",
    "\n",
    "#normal_solo\n",
    "mask4 = usingdata['matchType'].isin(['normal-solo'])\n",
    "nsolo = usingdata[mask4].drop(['matchType'], axis=1)\n",
    "nsolo = nsolo.reset_index(drop=True)\n",
    "\n",
    "#normal_duo\n",
    "mask5 = usingdata['matchType'].isin(['normal-duo'])\n",
    "nduo = usingdata[mask5].drop(['matchType'], axis = 1)\n",
    "nduo = nduo.reset_index(drop=True)\n",
    "\n",
    "#normal_squad\n",
    "mask6 = usingdata['matchType'].isin(['normal-squad'])\n",
    "nsquad = usingdata[mask6].drop(['matchType'], axis = 1)\n",
    "nsquad = nsquad.reset_index(drop=True)"
   ],
   "metadata": {
    "collapsed": false,
    "ExecuteTime": {
     "end_time": "2024-03-11T01:44:39.347662Z",
     "start_time": "2024-03-11T01:44:38.850325Z"
    }
   },
   "id": "2fb926813bc21470",
   "execution_count": 20
  },
  {
   "cell_type": "code",
   "outputs": [
    {
     "data": {
      "text/plain": "      assists  boosts  damageDealt  DBNOs  headshotKills  heals  killPlace  \\\n0           2       0       655.20      0              2      0         11   \n1           0       2        85.67      0              0      7          3   \n2           0       3       364.40      0              2      0          1   \n3           1       0       256.20      0              1      0         16   \n4           2       0      1750.00      0              4      5          3   \n...       ...     ...          ...    ...            ...    ...        ...   \n1677        4       0      1634.00      0              2      0          7   \n1678        6       0      3297.00      0              5      4          1   \n1679        3       0       548.00      0              1      2         20   \n1680        0       0        41.95      0              0      0         48   \n1681        0       3       567.60      0              2      1          1   \n\n      killStreaks  longestKill  matchDuration  numGroups  revives  teamKills  \\\n0               3        1.480            492         13        0          0   \n1               1        4.511            314         10        0          0   \n2               1      101.800            993         13        0          0   \n3               1       51.360           1084         16        0          0   \n4               6       37.080            898         15        0          0   \n...           ...          ...            ...        ...      ...        ...   \n1677            2       52.120            895         16        0          0   \n1678            5      203.400            896         13        0          0   \n1679            1      198.900            893         12        0          0   \n1680            1       43.380            599         27        0          0   \n1681            1       79.300           1732         51        0          0   \n\n      walkDistance  weaponsAcquired  winRank  winPlacePerc  \n0           29.570                9     1499        0.4737  \n1          187.100                1     1500        0.7778  \n2         2468.000                2     1500        0.9167  \n3            8.202                2     1500        0.7826  \n4            0.000               13     1500        0.8947  \n...            ...              ...      ...           ...  \n1677      1026.000               34     1500        0.6842  \n1678       253.000               32     1500        1.0000  \n1679       221.900               20     1500        0.4783  \n1680         0.000                4     1500        0.9434  \n1681      3103.000                4     1499        1.0000  \n\n[1682 rows x 17 columns]",
      "text/html": "<div>\n<style scoped>\n    .dataframe tbody tr th:only-of-type {\n        vertical-align: middle;\n    }\n\n    .dataframe tbody tr th {\n        vertical-align: top;\n    }\n\n    .dataframe thead th {\n        text-align: right;\n    }\n</style>\n<table border=\"1\" class=\"dataframe\">\n  <thead>\n    <tr style=\"text-align: right;\">\n      <th></th>\n      <th>assists</th>\n      <th>boosts</th>\n      <th>damageDealt</th>\n      <th>DBNOs</th>\n      <th>headshotKills</th>\n      <th>heals</th>\n      <th>killPlace</th>\n      <th>killStreaks</th>\n      <th>longestKill</th>\n      <th>matchDuration</th>\n      <th>numGroups</th>\n      <th>revives</th>\n      <th>teamKills</th>\n      <th>walkDistance</th>\n      <th>weaponsAcquired</th>\n      <th>winRank</th>\n      <th>winPlacePerc</th>\n    </tr>\n  </thead>\n  <tbody>\n    <tr>\n      <th>0</th>\n      <td>2</td>\n      <td>0</td>\n      <td>655.20</td>\n      <td>0</td>\n      <td>2</td>\n      <td>0</td>\n      <td>11</td>\n      <td>3</td>\n      <td>1.480</td>\n      <td>492</td>\n      <td>13</td>\n      <td>0</td>\n      <td>0</td>\n      <td>29.570</td>\n      <td>9</td>\n      <td>1499</td>\n      <td>0.4737</td>\n    </tr>\n    <tr>\n      <th>1</th>\n      <td>0</td>\n      <td>2</td>\n      <td>85.67</td>\n      <td>0</td>\n      <td>0</td>\n      <td>7</td>\n      <td>3</td>\n      <td>1</td>\n      <td>4.511</td>\n      <td>314</td>\n      <td>10</td>\n      <td>0</td>\n      <td>0</td>\n      <td>187.100</td>\n      <td>1</td>\n      <td>1500</td>\n      <td>0.7778</td>\n    </tr>\n    <tr>\n      <th>2</th>\n      <td>0</td>\n      <td>3</td>\n      <td>364.40</td>\n      <td>0</td>\n      <td>2</td>\n      <td>0</td>\n      <td>1</td>\n      <td>1</td>\n      <td>101.800</td>\n      <td>993</td>\n      <td>13</td>\n      <td>0</td>\n      <td>0</td>\n      <td>2468.000</td>\n      <td>2</td>\n      <td>1500</td>\n      <td>0.9167</td>\n    </tr>\n    <tr>\n      <th>3</th>\n      <td>1</td>\n      <td>0</td>\n      <td>256.20</td>\n      <td>0</td>\n      <td>1</td>\n      <td>0</td>\n      <td>16</td>\n      <td>1</td>\n      <td>51.360</td>\n      <td>1084</td>\n      <td>16</td>\n      <td>0</td>\n      <td>0</td>\n      <td>8.202</td>\n      <td>2</td>\n      <td>1500</td>\n      <td>0.7826</td>\n    </tr>\n    <tr>\n      <th>4</th>\n      <td>2</td>\n      <td>0</td>\n      <td>1750.00</td>\n      <td>0</td>\n      <td>4</td>\n      <td>5</td>\n      <td>3</td>\n      <td>6</td>\n      <td>37.080</td>\n      <td>898</td>\n      <td>15</td>\n      <td>0</td>\n      <td>0</td>\n      <td>0.000</td>\n      <td>13</td>\n      <td>1500</td>\n      <td>0.8947</td>\n    </tr>\n    <tr>\n      <th>...</th>\n      <td>...</td>\n      <td>...</td>\n      <td>...</td>\n      <td>...</td>\n      <td>...</td>\n      <td>...</td>\n      <td>...</td>\n      <td>...</td>\n      <td>...</td>\n      <td>...</td>\n      <td>...</td>\n      <td>...</td>\n      <td>...</td>\n      <td>...</td>\n      <td>...</td>\n      <td>...</td>\n      <td>...</td>\n    </tr>\n    <tr>\n      <th>1677</th>\n      <td>4</td>\n      <td>0</td>\n      <td>1634.00</td>\n      <td>0</td>\n      <td>2</td>\n      <td>0</td>\n      <td>7</td>\n      <td>2</td>\n      <td>52.120</td>\n      <td>895</td>\n      <td>16</td>\n      <td>0</td>\n      <td>0</td>\n      <td>1026.000</td>\n      <td>34</td>\n      <td>1500</td>\n      <td>0.6842</td>\n    </tr>\n    <tr>\n      <th>1678</th>\n      <td>6</td>\n      <td>0</td>\n      <td>3297.00</td>\n      <td>0</td>\n      <td>5</td>\n      <td>4</td>\n      <td>1</td>\n      <td>5</td>\n      <td>203.400</td>\n      <td>896</td>\n      <td>13</td>\n      <td>0</td>\n      <td>0</td>\n      <td>253.000</td>\n      <td>32</td>\n      <td>1500</td>\n      <td>1.0000</td>\n    </tr>\n    <tr>\n      <th>1679</th>\n      <td>3</td>\n      <td>0</td>\n      <td>548.00</td>\n      <td>0</td>\n      <td>1</td>\n      <td>2</td>\n      <td>20</td>\n      <td>1</td>\n      <td>198.900</td>\n      <td>893</td>\n      <td>12</td>\n      <td>0</td>\n      <td>0</td>\n      <td>221.900</td>\n      <td>20</td>\n      <td>1500</td>\n      <td>0.4783</td>\n    </tr>\n    <tr>\n      <th>1680</th>\n      <td>0</td>\n      <td>0</td>\n      <td>41.95</td>\n      <td>0</td>\n      <td>0</td>\n      <td>0</td>\n      <td>48</td>\n      <td>1</td>\n      <td>43.380</td>\n      <td>599</td>\n      <td>27</td>\n      <td>0</td>\n      <td>0</td>\n      <td>0.000</td>\n      <td>4</td>\n      <td>1500</td>\n      <td>0.9434</td>\n    </tr>\n    <tr>\n      <th>1681</th>\n      <td>0</td>\n      <td>3</td>\n      <td>567.60</td>\n      <td>0</td>\n      <td>2</td>\n      <td>1</td>\n      <td>1</td>\n      <td>1</td>\n      <td>79.300</td>\n      <td>1732</td>\n      <td>51</td>\n      <td>0</td>\n      <td>0</td>\n      <td>3103.000</td>\n      <td>4</td>\n      <td>1499</td>\n      <td>1.0000</td>\n    </tr>\n  </tbody>\n</table>\n<p>1682 rows × 17 columns</p>\n</div>"
     },
     "execution_count": 21,
     "metadata": {},
     "output_type": "execute_result"
    }
   ],
   "source": [
    "nsolo_fpp"
   ],
   "metadata": {
    "collapsed": false,
    "ExecuteTime": {
     "end_time": "2024-03-11T01:44:39.378608Z",
     "start_time": "2024-03-11T01:44:39.350095Z"
    }
   },
   "id": "b63e4f0239c70073",
   "execution_count": 21
  },
  {
   "cell_type": "code",
   "outputs": [],
   "source": [
    "#nsolofpp\n",
    "target = nsolo_fpp[nsolo_fpp.columns[-1]]\n",
    "feature = nsolo_fpp[nsolo_fpp.columns[:-1]]"
   ],
   "metadata": {
    "collapsed": false,
    "ExecuteTime": {
     "end_time": "2024-03-11T01:44:39.394473Z",
     "start_time": "2024-03-11T01:44:39.379686Z"
    }
   },
   "id": "3f47b932fcff52a",
   "execution_count": 22
  },
  {
   "cell_type": "code",
   "outputs": [],
   "source": [
    "from sklearn.model_selection import train_test_split"
   ],
   "metadata": {
    "collapsed": false,
    "ExecuteTime": {
     "end_time": "2024-03-11T01:44:39.457073Z",
     "start_time": "2024-03-11T01:44:39.395522Z"
    }
   },
   "id": "35b2b6e1533ac469",
   "execution_count": 23
  },
  {
   "cell_type": "code",
   "outputs": [],
   "source": [
    "xtrain,xtest,ytrain,ytest = train_test_split(feature, target, test_size=0.3, random_state=42)"
   ],
   "metadata": {
    "collapsed": false,
    "ExecuteTime": {
     "end_time": "2024-03-11T01:44:39.487315Z",
     "start_time": "2024-03-11T01:44:39.459204Z"
    }
   },
   "id": "ce233a975dad852d",
   "execution_count": 24
  },
  {
   "cell_type": "code",
   "outputs": [
    {
     "name": "stdout",
     "output_type": "stream",
     "text": [
      "[TRAIN SHAPE]: (1177, 16),(1177,)\n",
      "[TEST SHAPE]: (505, 16),(505,)\n"
     ]
    }
   ],
   "source": [
    "print(f'[TRAIN SHAPE]: {xtrain.shape},{ytrain.shape}')\n",
    "print(f'[TEST SHAPE]: {xtest.shape},{ytest.shape}')"
   ],
   "metadata": {
    "collapsed": false,
    "ExecuteTime": {
     "end_time": "2024-03-11T01:44:39.502357Z",
     "start_time": "2024-03-11T01:44:39.489330Z"
    }
   },
   "id": "950b6a156ea7dbb7",
   "execution_count": 25
  },
  {
   "cell_type": "code",
   "outputs": [],
   "source": [
    "from sklearn.preprocessing import StandardScaler\n",
    "scaler1 = StandardScaler()\n",
    "scaler1.fit(xtrain)\n",
    "scaler1.fit(xtest)\n",
    "\n",
    "xtrain = scaler1.transform(xtrain)\n",
    "xtest = scaler1.transform(xtest)"
   ],
   "metadata": {
    "collapsed": false,
    "ExecuteTime": {
     "end_time": "2024-03-11T01:44:39.534006Z",
     "start_time": "2024-03-11T01:44:39.503389Z"
    }
   },
   "id": "8a6ef892e0e1e9cd",
   "execution_count": 26
  },
  {
   "cell_type": "code",
   "outputs": [],
   "source": [
    "from sklearn.ensemble import RandomForestRegressor\n",
    "\n",
    "reg1 = RandomForestRegressor()\n",
    "reg1.fit(xtrain,ytrain)\n",
    "ypred_nsolo_fpp = reg1.predict(xtest)\n",
    "nsf_mse = mean_squared_error(ytest, ypred_nsolo_fpp)\n",
    "nsf_mae = mean_absolute_error(ytest, ypred_nsolo_fpp)\n",
    "nsf_r2 = r2_score(ytest, ypred_nsolo_fpp)\n",
    "nsf_rmse = mean_squared_error(ytest, ypred_nsolo_fpp)"
   ],
   "metadata": {
    "collapsed": false,
    "ExecuteTime": {
     "end_time": "2024-03-11T01:44:41.468844Z",
     "start_time": "2024-03-11T01:44:39.536089Z"
    }
   },
   "id": "24416c109345312a",
   "execution_count": 27
  },
  {
   "cell_type": "code",
   "outputs": [],
   "source": [
    "nsolofpp_testscore = reg1.score(xtest,ytest)\n",
    "nsolofpp_trainscore = reg1.score(xtrain,ytrain)"
   ],
   "metadata": {
    "collapsed": false,
    "ExecuteTime": {
     "end_time": "2024-03-11T01:44:41.515175Z",
     "start_time": "2024-03-11T01:44:41.469950Z"
    }
   },
   "id": "5e08784d14e58288",
   "execution_count": 28
  },
  {
   "cell_type": "code",
   "outputs": [],
   "source": [
    "#nduo_fpp\n",
    "target = nsolo[nduo_fpp.columns[-1]]\n",
    "feature = nsolo[nduo_fpp.columns[:-1]]\n",
    "\n",
    "xtrain,xtest,ytrain,ytest = train_test_split(feature, target, test_size=0.3, random_state=42)\n",
    "\n",
    "\n"
   ],
   "metadata": {
    "collapsed": false,
    "ExecuteTime": {
     "end_time": "2024-03-11T01:44:41.530399Z",
     "start_time": "2024-03-11T01:44:41.516226Z"
    }
   },
   "id": "497473a714a35854",
   "execution_count": 29
  },
  {
   "cell_type": "code",
   "outputs": [],
   "source": [
    "scaler2 = StandardScaler()\n",
    "scaler2.fit(xtrain)\n",
    "scaler2.fit(xtest)\n",
    "\n",
    "xtrain = scaler2.transform(xtrain)\n",
    "xtest = scaler2.transform(xtest)\n"
   ],
   "metadata": {
    "collapsed": false,
    "ExecuteTime": {
     "end_time": "2024-03-11T01:44:41.546153Z",
     "start_time": "2024-03-11T01:44:41.534352Z"
    }
   },
   "id": "9dc5cdd7bd4259c6",
   "execution_count": 30
  },
  {
   "cell_type": "code",
   "outputs": [
    {
     "data": {
      "text/plain": "RandomForestRegressor()",
      "text/html": "<style>#sk-container-id-1 {color: black;}#sk-container-id-1 pre{padding: 0;}#sk-container-id-1 div.sk-toggleable {background-color: white;}#sk-container-id-1 label.sk-toggleable__label {cursor: pointer;display: block;width: 100%;margin-bottom: 0;padding: 0.3em;box-sizing: border-box;text-align: center;}#sk-container-id-1 label.sk-toggleable__label-arrow:before {content: \"▸\";float: left;margin-right: 0.25em;color: #696969;}#sk-container-id-1 label.sk-toggleable__label-arrow:hover:before {color: black;}#sk-container-id-1 div.sk-estimator:hover label.sk-toggleable__label-arrow:before {color: black;}#sk-container-id-1 div.sk-toggleable__content {max-height: 0;max-width: 0;overflow: hidden;text-align: left;background-color: #f0f8ff;}#sk-container-id-1 div.sk-toggleable__content pre {margin: 0.2em;color: black;border-radius: 0.25em;background-color: #f0f8ff;}#sk-container-id-1 input.sk-toggleable__control:checked~div.sk-toggleable__content {max-height: 200px;max-width: 100%;overflow: auto;}#sk-container-id-1 input.sk-toggleable__control:checked~label.sk-toggleable__label-arrow:before {content: \"▾\";}#sk-container-id-1 div.sk-estimator input.sk-toggleable__control:checked~label.sk-toggleable__label {background-color: #d4ebff;}#sk-container-id-1 div.sk-label input.sk-toggleable__control:checked~label.sk-toggleable__label {background-color: #d4ebff;}#sk-container-id-1 input.sk-hidden--visually {border: 0;clip: rect(1px 1px 1px 1px);clip: rect(1px, 1px, 1px, 1px);height: 1px;margin: -1px;overflow: hidden;padding: 0;position: absolute;width: 1px;}#sk-container-id-1 div.sk-estimator {font-family: monospace;background-color: #f0f8ff;border: 1px dotted black;border-radius: 0.25em;box-sizing: border-box;margin-bottom: 0.5em;}#sk-container-id-1 div.sk-estimator:hover {background-color: #d4ebff;}#sk-container-id-1 div.sk-parallel-item::after {content: \"\";width: 100%;border-bottom: 1px solid gray;flex-grow: 1;}#sk-container-id-1 div.sk-label:hover label.sk-toggleable__label {background-color: #d4ebff;}#sk-container-id-1 div.sk-serial::before {content: \"\";position: absolute;border-left: 1px solid gray;box-sizing: border-box;top: 0;bottom: 0;left: 50%;z-index: 0;}#sk-container-id-1 div.sk-serial {display: flex;flex-direction: column;align-items: center;background-color: white;padding-right: 0.2em;padding-left: 0.2em;position: relative;}#sk-container-id-1 div.sk-item {position: relative;z-index: 1;}#sk-container-id-1 div.sk-parallel {display: flex;align-items: stretch;justify-content: center;background-color: white;position: relative;}#sk-container-id-1 div.sk-item::before, #sk-container-id-1 div.sk-parallel-item::before {content: \"\";position: absolute;border-left: 1px solid gray;box-sizing: border-box;top: 0;bottom: 0;left: 50%;z-index: -1;}#sk-container-id-1 div.sk-parallel-item {display: flex;flex-direction: column;z-index: 1;position: relative;background-color: white;}#sk-container-id-1 div.sk-parallel-item:first-child::after {align-self: flex-end;width: 50%;}#sk-container-id-1 div.sk-parallel-item:last-child::after {align-self: flex-start;width: 50%;}#sk-container-id-1 div.sk-parallel-item:only-child::after {width: 0;}#sk-container-id-1 div.sk-dashed-wrapped {border: 1px dashed gray;margin: 0 0.4em 0.5em 0.4em;box-sizing: border-box;padding-bottom: 0.4em;background-color: white;}#sk-container-id-1 div.sk-label label {font-family: monospace;font-weight: bold;display: inline-block;line-height: 1.2em;}#sk-container-id-1 div.sk-label-container {text-align: center;}#sk-container-id-1 div.sk-container {/* jupyter's `normalize.less` sets `[hidden] { display: none; }` but bootstrap.min.css set `[hidden] { display: none !important; }` so we also need the `!important` here to be able to override the default hidden behavior on the sphinx rendered scikit-learn.org. See: https://github.com/scikit-learn/scikit-learn/issues/21755 */display: inline-block !important;position: relative;}#sk-container-id-1 div.sk-text-repr-fallback {display: none;}</style><div id=\"sk-container-id-1\" class=\"sk-top-container\"><div class=\"sk-text-repr-fallback\"><pre>RandomForestRegressor()</pre><b>In a Jupyter environment, please rerun this cell to show the HTML representation or trust the notebook. <br />On GitHub, the HTML representation is unable to render, please try loading this page with nbviewer.org.</b></div><div class=\"sk-container\" hidden><div class=\"sk-item\"><div class=\"sk-estimator sk-toggleable\"><input class=\"sk-toggleable__control sk-hidden--visually\" id=\"sk-estimator-id-1\" type=\"checkbox\" checked><label for=\"sk-estimator-id-1\" class=\"sk-toggleable__label sk-toggleable__label-arrow\">RandomForestRegressor</label><div class=\"sk-toggleable__content\"><pre>RandomForestRegressor()</pre></div></div></div></div></div>"
     },
     "execution_count": 31,
     "metadata": {},
     "output_type": "execute_result"
    }
   ],
   "source": [
    "from sklearn.ensemble import RandomForestRegressor\n",
    "\n",
    "reg2 = RandomForestRegressor()\n",
    "reg2.fit(xtrain,ytrain)"
   ],
   "metadata": {
    "collapsed": false,
    "ExecuteTime": {
     "end_time": "2024-03-11T01:44:41.902182Z",
     "start_time": "2024-03-11T01:44:41.547150Z"
    }
   },
   "id": "4902423275c5572e",
   "execution_count": 31
  },
  {
   "cell_type": "code",
   "outputs": [],
   "source": [
    "nduofpp_testscore = reg2.score(xtest,ytest)\n",
    "nduofpp_trainscore = reg2.score(xtrain,ytrain)\n",
    "ypred_nduo_fpp = reg2.predict(xtest)\n",
    "ndf_mse = mean_squared_error(ytest, ypred_nduo_fpp)\n",
    "ndf_mae = mean_absolute_error(ytest, ypred_nduo_fpp)\n",
    "ndf_r2 = r2_score(ytest, ypred_nduo_fpp)\n",
    "ndf_rmse = mean_squared_error(ytest, ypred_nduo_fpp)"
   ],
   "metadata": {
    "collapsed": false,
    "ExecuteTime": {
     "end_time": "2024-03-11T01:44:41.949291Z",
     "start_time": "2024-03-11T01:44:41.903258Z"
    }
   },
   "id": "c47ce9a42d3ed3cc",
   "execution_count": 32
  },
  {
   "cell_type": "code",
   "outputs": [],
   "source": [
    "#normal_squad_fpp\n",
    "\n",
    "target = nsquad_fpp[nsquad_fpp.columns[-1]]\n",
    "feature = nsquad_fpp[nsquad_fpp.columns[:-1]]"
   ],
   "metadata": {
    "collapsed": false,
    "ExecuteTime": {
     "end_time": "2024-03-11T01:44:41.964849Z",
     "start_time": "2024-03-11T01:44:41.950238Z"
    }
   },
   "id": "9c78c6cf48be34b7",
   "execution_count": 33
  },
  {
   "cell_type": "code",
   "outputs": [],
   "source": [
    "xtrain, xtest, ytrain, ytest = train_test_split(feature, target)\n",
    "\n",
    "scaler3 = StandardScaler()\n",
    "scaler3.fit(xtrain)\n",
    "scaler3.fit(xtest)\n",
    "\n",
    "xtrain = scaler3.transform(xtrain)\n",
    "xtest = scaler3.transform(xtest)\n",
    "\n",
    "reg3 = RandomForestRegressor()\n",
    "reg3.fit(xtrain,ytrain)\n",
    "ypred_nsquad_fpp = reg3.predict(xtest)\n",
    "\n",
    "nsqf_mse = mean_squared_error(ytest, ypred_nsquad_fpp)\n",
    "nsqf_mae = mean_absolute_error(ytest, ypred_nsquad_fpp)\n",
    "nsqf_r2 = r2_score(ytest, ypred_nsquad_fpp)\n",
    "nsqf_rmse = mean_squared_error(ytest, ypred_nsquad_fpp)\n",
    "nsquadfpp_testscore = reg3.score(xtest,ytest)\n",
    "nsquadfpp_trainscore = reg3.score(xtrain,ytrain)"
   ],
   "metadata": {
    "collapsed": false,
    "ExecuteTime": {
     "end_time": "2024-03-11T01:44:59.212819Z",
     "start_time": "2024-03-11T01:44:41.966843Z"
    }
   },
   "id": "ff9816e6063625fe",
   "execution_count": 34
  },
  {
   "cell_type": "code",
   "outputs": [],
   "source": [
    "#normal_solo\n",
    "\n",
    "nstarget = nsolo[nsolo.columns[-1]]\n",
    "nsfeature = nsolo[nsolo.columns[:-1]]"
   ],
   "metadata": {
    "collapsed": false,
    "ExecuteTime": {
     "end_time": "2024-03-11T01:44:59.228565Z",
     "start_time": "2024-03-11T01:44:59.213819Z"
    }
   },
   "id": "ee5abe7bf6e99062",
   "execution_count": 35
  },
  {
   "cell_type": "code",
   "outputs": [],
   "source": [
    "xtrain, xtest, ytrain, ytest = train_test_split(feature, target)\n",
    "\n",
    "scaler4 = StandardScaler()\n",
    "scaler4.fit(xtrain)\n",
    "scaler4.fit(xtest)\n",
    "\n",
    "xtrain = scaler4.transform(xtrain)\n",
    "xtest = scaler4.transform(xtest)\n",
    "\n",
    "reg4 = RandomForestRegressor()\n",
    "reg4.fit(xtrain,ytrain)\n",
    "ypred_nsolo = reg4.predict(xtest)\n",
    "\n",
    "\n",
    "ns_mse = mean_squared_error(ytest, ypred_nsolo)\n",
    "ns_mae = mean_absolute_error(ytest, ypred_nsolo)\n",
    "ns_r2 = r2_score(ytest, ypred_nsolo)\n",
    "ns_rmse = mean_squared_error(ytest, ypred_nsolo)\n",
    "\n",
    "nsolo_testscore = reg4.score(xtest,ytest)\n",
    "nsolo_trainscore = reg4.score(xtrain,ytrain)"
   ],
   "metadata": {
    "collapsed": false,
    "ExecuteTime": {
     "end_time": "2024-03-11T01:45:15.375720Z",
     "start_time": "2024-03-11T01:44:59.229598Z"
    }
   },
   "id": "a42ea25e3859821d",
   "execution_count": 36
  },
  {
   "cell_type": "code",
   "outputs": [],
   "source": [
    "#normal_duo\n",
    "\n",
    "ndtarget = nduo[nduo.columns[-1]]\n",
    "ndfeature = nduo[nduo.columns[:-1]]\n",
    "\n",
    "xtrain, xtest, ytrain, ytest = train_test_split(feature, target)\n",
    "\n",
    "scaler5 = StandardScaler()\n",
    "scaler5.fit(xtrain)\n",
    "scaler5.fit(xtest)\n",
    "\n",
    "xtrain = scaler5.transform(xtrain)\n",
    "xtest = scaler5.transform(xtest)\n",
    "\n",
    "reg5 = RandomForestRegressor()\n",
    "reg5.fit(xtrain,ytrain)\n",
    "\n",
    "ypred_nduo = reg5.predict(xtest)\n",
    "\n",
    "nd_mse = mean_squared_error(ytest, ypred_nduo)\n",
    "nd_mae = mean_absolute_error(ytest, ypred_nduo)\n",
    "nd_r2 = r2_score(ytest, ypred_nduo)\n",
    "nd_rmse = mean_squared_error(ytest, ypred_nduo)\n",
    "\n",
    "nduo_testscore = reg5.score(xtest,ytest)\n",
    "nduo_trainscore = reg5.score(xtrain,ytrain)"
   ],
   "metadata": {
    "collapsed": false,
    "ExecuteTime": {
     "end_time": "2024-03-11T01:45:31.238817Z",
     "start_time": "2024-03-11T01:45:15.376719Z"
    }
   },
   "id": "fc032f69d7f955f8",
   "execution_count": 37
  },
  {
   "cell_type": "code",
   "outputs": [],
   "source": [
    "#normal squad\n",
    "\n",
    "nsqtarget = nsquad[nsquad.columns[-1]]\n",
    "nsqfeature = nsquad[nsquad.columns[:-1]]\n",
    "\n",
    "xtrain, xtest, ytrain, ytest = train_test_split(feature, target)\n",
    "\n",
    "scaler6 = StandardScaler()\n",
    "scaler6.fit(xtrain)\n",
    "scaler6.fit(xtest)\n",
    "\n",
    "xtrain = scaler6.transform(xtrain)\n",
    "xtest = scaler6.transform(xtest)\n",
    "\n",
    "reg6 = RandomForestRegressor()\n",
    "reg6.fit(xtrain,ytrain)\n",
    "ypred_nsquad = reg6.predict(xtest)\n",
    "\n",
    "nsq_mse = mean_squared_error(ytest, ypred_nsquad)\n",
    "nsq_mae = mean_absolute_error(ytest, ypred_nsquad)\n",
    "nsq_r2 = r2_score(ytest, ypred_nsquad)\n",
    "nsq_rmse = mean_squared_error(ytest, ypred_nsquad)\n",
    "\n",
    "nsquad_testscore = reg6.score(xtest,ytest)\n",
    "nsquad_trainscore = reg6.score(xtrain,ytrain)"
   ],
   "metadata": {
    "collapsed": false,
    "ExecuteTime": {
     "end_time": "2024-03-11T01:45:47.728597Z",
     "start_time": "2024-03-11T01:45:31.239814Z"
    }
   },
   "id": "d4c21eec5721bf7e",
   "execution_count": 38
  },
  {
   "cell_type": "code",
   "outputs": [
    {
     "name": "stdout",
     "output_type": "stream",
     "text": [
      "\n",
      "[Normal Solo FPP]\n",
      "- Trainscore : 0.9487047834611334\n",
      "- Testscore : 0.5555805440492463\n",
      "\n",
      "[Normal Duo FPP]\n",
      "-Trainscore : 0.9373119648903021\n",
      "-Testscore : 0.5159929103395284\n",
      "\n",
      "[Normal Squad FPP]\n",
      "- Trainscore : 0.9326491015890009\n",
      "- Testscore : 0.5334892763551733\n",
      "\n",
      "[Normal Solo]\n",
      "- Trainscore : 0.9327391498069777\n",
      "- Testscore : 0.5278912811591052\n",
      "\n",
      "[Normal Duo]\n",
      "- Trainscore : 0.9332613231951306\n",
      "- Testscore : 0.5012671538106448\n",
      "\n",
      "[Normal Squad]\n",
      "- Trainscore : 0.9326821366161244\n",
      "- Testscore : 0.5157069268740183\n"
     ]
    }
   ],
   "source": [
    "print(f'''\n",
    "[Normal Solo FPP]\n",
    "- Trainscore : {nsolofpp_trainscore}\n",
    "- Testscore : {nsolofpp_testscore}\n",
    "\n",
    "[Normal Duo FPP]\n",
    "-Trainscore : {nduofpp_trainscore}\n",
    "-Testscore : {nduofpp_testscore}\n",
    "\n",
    "[Normal Squad FPP]\n",
    "- Trainscore : {nsquadfpp_trainscore}\n",
    "- Testscore : {nsquadfpp_testscore}\n",
    "\n",
    "[Normal Solo]\n",
    "- Trainscore : {nsolo_trainscore}\n",
    "- Testscore : {nsolo_testscore}\n",
    "\n",
    "[Normal Duo]\n",
    "- Trainscore : {nduo_trainscore}\n",
    "- Testscore : {nduo_testscore}\n",
    "\n",
    "[Normal Squad]\n",
    "- Trainscore : {nsquad_trainscore}\n",
    "- Testscore : {nsquad_testscore}\n",
    "''')\n",
    "\n"
   ],
   "metadata": {
    "collapsed": false,
    "ExecuteTime": {
     "end_time": "2024-03-11T01:45:47.743993Z",
     "start_time": "2024-03-11T01:45:47.729594Z"
    }
   },
   "id": "da13ee92d89d2cd1",
   "execution_count": 39
  },
  {
   "cell_type": "code",
   "outputs": [],
   "source": [
    "#Normal Solo First Person Perspective:  삭제(사유 : 다른 것보다 유희의 성격이 강한 맵이라 다른 분류들과 상관계수가 다름)0\n",
    "#점수가 왜 -5점대지..?\n",
    "#아니다. 오타엿다. 잘못 잡았다!\n",
    "#그래서 수정햇다"
   ],
   "metadata": {
    "collapsed": false,
    "ExecuteTime": {
     "end_time": "2024-03-11T01:45:47.759316Z",
     "start_time": "2024-03-11T01:45:47.745004Z"
    }
   },
   "id": "57c0db3f52d1b5fc",
   "execution_count": 40
  },
  {
   "cell_type": "code",
   "outputs": [
    {
     "name": "stdout",
     "output_type": "stream",
     "text": [
      "[Performance] \n",
      "[Normal Solo FPP]\n",
      "-MSE : 0.044166915224839606\n",
      "-MAE : 0.1542093702970297\n",
      "-RMSE : 0.044166915224839606\n",
      "-R2 : 0.5555805440492463\n",
      "\n",
      "[Normal Duo FPP]\n",
      "-MSE : 0.045851241519591836\n",
      "-MAE : 0.15877281632653056\n",
      "-RMSE : 0.045851241519591836\n",
      "-R2 : 0.5159929103395284\n",
      "\n",
      "[Normal Squad FPP]\n",
      "-MSE : 0.04906771267625315\n",
      "-MAE : 0.1663395027945971\n",
      "-RMSE : 0.04906771267625315\n",
      "-R2 : 0.5334892763551733\n",
      "\n",
      "[Normal Solo]\n",
      "-MSE : 0.049519246056529576\n",
      "-MAE : 0.16656899953423382\n",
      "-RMSE : 0.049519246056529576\n",
      "-R2 : 0.5278912811591052\n",
      "\n",
      "[Normal Duo]\n",
      "-MSE : 0.05374525824196111\n",
      "-MAE : 0.1742361371681416\n",
      "-RMSE : 0.05374525824196111\n",
      "-R2 : 0.5012671538106448\n",
      "\n",
      "[Normal Squad]\n",
      "-MSE : 0.05112133759651397\n",
      "-MAE : 0.16924720889613415\n",
      "-RMSE : 0.05112133759651397\n",
      "-R2 : 0.5157069268740183\n"
     ]
    }
   ],
   "source": [
    "# 성능 평가는 변수 겹침 이슈로 위에 다 적었다\n",
    "# 프린트만 한번에 합시다\n",
    "\n",
    "print(f'''[Performance] \n",
    "[Normal Solo FPP]\n",
    "-MSE : {nsf_mse}\n",
    "-MAE : {nsf_mae}\n",
    "-RMSE : {nsf_rmse}\n",
    "-R2 : {nsf_r2}\n",
    "\n",
    "[Normal Duo FPP]\n",
    "-MSE : {ndf_mse}\n",
    "-MAE : {ndf_mae}\n",
    "-RMSE : {ndf_rmse}\n",
    "-R2 : {ndf_r2}\n",
    "\n",
    "[Normal Squad FPP]\n",
    "-MSE : {nsqf_mse}\n",
    "-MAE : {nsqf_mae}\n",
    "-RMSE : {nsqf_rmse}\n",
    "-R2 : {nsqf_r2}\n",
    "\n",
    "[Normal Solo]\n",
    "-MSE : {ns_mse}\n",
    "-MAE : {ns_mae}\n",
    "-RMSE : {ns_rmse}\n",
    "-R2 : {ns_r2}\n",
    "\n",
    "[Normal Duo]\n",
    "-MSE : {nd_mse}\n",
    "-MAE : {nd_mae}\n",
    "-RMSE : {nd_rmse}\n",
    "-R2 : {nd_r2}\n",
    "\n",
    "[Normal Squad]\n",
    "-MSE : {nsq_mse}\n",
    "-MAE : {nsq_mae}\n",
    "-RMSE : {nsq_rmse}\n",
    "-R2 : {nsq_r2}\n",
    "''')"
   ],
   "metadata": {
    "collapsed": false,
    "ExecuteTime": {
     "end_time": "2024-03-11T01:45:47.775504Z",
     "start_time": "2024-03-11T01:45:47.761369Z"
    }
   },
   "id": "2da7819c326fb1c0",
   "execution_count": 41
  },
  {
   "cell_type": "code",
   "outputs": [],
   "source": [
    "# 모델 저장\n",
    "import joblib\n",
    "import os"
   ],
   "metadata": {
    "collapsed": false,
    "ExecuteTime": {
     "end_time": "2024-03-11T01:45:47.790924Z",
     "start_time": "2024-03-11T01:45:47.776966Z"
    }
   },
   "id": "edd8b8170535b08a",
   "execution_count": 42
  },
  {
   "cell_type": "markdown",
   "source": [],
   "metadata": {
    "collapsed": false
   },
   "id": "13d97c3a58bbf12b"
  },
  {
   "cell_type": "code",
   "outputs": [],
   "source": [
    "md_filename = 'pubg_normal'\n",
    "md_dir = '../model/'\n",
    "\n",
    "# 저장폴더 존재여부 확인 후 저장하기\n",
    "if not os.path.exists(md_dir):\n",
    "    os.mkdir(md_dir)\n",
    "    \n",
    "md_filename2 = 'pubg_normal_Scaler'\n"
   ],
   "metadata": {
    "collapsed": false,
    "ExecuteTime": {
     "end_time": "2024-03-11T01:46:08.068596Z",
     "start_time": "2024-03-11T01:46:08.053341Z"
    }
   },
   "id": "48f48a4d44dde075",
   "execution_count": 51
  },
  {
   "cell_type": "markdown",
   "source": [],
   "metadata": {
    "collapsed": false
   },
   "id": "31ae4f5216097e08"
  },
  {
   "cell_type": "code",
   "outputs": [
    {
     "data": {
      "text/plain": "['../model/pubg_normal_Scalerscaler6.pkl']"
     },
     "execution_count": 52,
     "metadata": {},
     "output_type": "execute_result"
    }
   ],
   "source": [
    "joblib.dump(scaler1, md_dir+md_filename2+'scaler1'+'.pkl')\n",
    "joblib.dump(scaler2, md_dir+md_filename2+'scaler2'+'.pkl')\n",
    "joblib.dump(scaler3, md_dir+md_filename2+'scaler3'+'.pkl')\n",
    "joblib.dump(scaler4, md_dir+md_filename2+'scaler4'+'.pkl')\n",
    "joblib.dump(scaler5, md_dir+md_filename2+'scaler5'+'.pkl')\n",
    "joblib.dump(scaler6, md_dir+md_filename2+'scaler6'+'.pkl')\n",
    "\n"
   ],
   "metadata": {
    "collapsed": false,
    "ExecuteTime": {
     "end_time": "2024-03-11T01:46:08.084047Z",
     "start_time": "2024-03-11T01:46:08.070835Z"
    }
   },
   "id": "ac4ebff806df2e4",
   "execution_count": 52
  },
  {
   "cell_type": "code",
   "outputs": [
    {
     "data": {
      "text/plain": "['../model/pubg_normal_solo_fpp.pkl']"
     },
     "execution_count": 53,
     "metadata": {},
     "output_type": "execute_result"
    }
   ],
   "source": [
    "\n",
    "joblib.dump(reg1,md_dir + md_filename +'_solo_fpp' + '.pkl')\n"
   ],
   "metadata": {
    "collapsed": false,
    "ExecuteTime": {
     "end_time": "2024-03-11T01:46:08.130440Z",
     "start_time": "2024-03-11T01:46:08.085194Z"
    }
   },
   "id": "50b7c2e99df6e5e2",
   "execution_count": 53
  },
  {
   "cell_type": "code",
   "outputs": [
    {
     "data": {
      "text/plain": "['../model/pubg_normal_duo_fpp.pkl']"
     },
     "execution_count": 54,
     "metadata": {},
     "output_type": "execute_result"
    }
   ],
   "source": [
    "joblib.dump(reg2,md_dir + md_filename +'_duo_fpp'+ '.pkl')"
   ],
   "metadata": {
    "collapsed": false,
    "ExecuteTime": {
     "end_time": "2024-03-11T01:46:09.669781Z",
     "start_time": "2024-03-11T01:46:09.624758Z"
    }
   },
   "id": "a2c537c948c6fef8",
   "execution_count": 54
  },
  {
   "cell_type": "code",
   "outputs": [
    {
     "data": {
      "text/plain": "['../model/pubg_normal_squad_fpp.pkl']"
     },
     "execution_count": 55,
     "metadata": {},
     "output_type": "execute_result"
    }
   ],
   "source": [
    "joblib.dump(reg3,md_dir + md_filename + '_squad_fpp'+ '.pkl')"
   ],
   "metadata": {
    "collapsed": false,
    "ExecuteTime": {
     "end_time": "2024-03-11T01:46:11.064045Z",
     "start_time": "2024-03-11T01:46:10.963558Z"
    }
   },
   "id": "7e8e98e61f653b8e",
   "execution_count": 55
  },
  {
   "cell_type": "code",
   "outputs": [
    {
     "data": {
      "text/plain": "['../model/pubg_normal_solo.pkl']"
     },
     "execution_count": 56,
     "metadata": {},
     "output_type": "execute_result"
    }
   ],
   "source": [
    "joblib.dump(reg4,md_dir + md_filename +'_solo'+ '.pkl')"
   ],
   "metadata": {
    "collapsed": false,
    "ExecuteTime": {
     "end_time": "2024-03-11T01:46:12.054632Z",
     "start_time": "2024-03-11T01:46:11.963890Z"
    }
   },
   "id": "fb5f67847eaab231",
   "execution_count": 56
  },
  {
   "cell_type": "code",
   "outputs": [
    {
     "data": {
      "text/plain": "['../model/pubg_normal_duo.pkl']"
     },
     "execution_count": 57,
     "metadata": {},
     "output_type": "execute_result"
    }
   ],
   "source": [
    "joblib.dump(reg5,md_dir + md_filename+'_duo'+ '.pkl')"
   ],
   "metadata": {
    "collapsed": false,
    "ExecuteTime": {
     "end_time": "2024-03-11T01:46:13.034991Z",
     "start_time": "2024-03-11T01:46:12.942678Z"
    }
   },
   "id": "95bb681b2a56415f",
   "execution_count": 57
  },
  {
   "cell_type": "code",
   "outputs": [
    {
     "data": {
      "text/plain": "['../model/pubg_normal_squad.pkl']"
     },
     "execution_count": 50,
     "metadata": {},
     "output_type": "execute_result"
    }
   ],
   "source": [
    "joblib.dump(reg6,md_dir + md_filename +'_squad'+ '.pkl')"
   ],
   "metadata": {
    "collapsed": false,
    "ExecuteTime": {
     "end_time": "2024-03-11T01:45:48.270242Z",
     "start_time": "2024-03-11T01:45:48.193702Z"
    }
   },
   "id": "bde65c1bee242b76",
   "execution_count": 50
  },
  {
   "cell_type": "code",
   "outputs": [],
   "source": [],
   "metadata": {
    "collapsed": false,
    "ExecuteTime": {
     "end_time": "2024-03-11T01:45:48.280862Z",
     "start_time": "2024-03-11T01:45:48.271240Z"
    }
   },
   "id": "804c02242b54648c",
   "execution_count": 50
  }
 ],
 "metadata": {
  "kernelspec": {
   "display_name": "Python 3",
   "language": "python",
   "name": "python3"
  },
  "language_info": {
   "codemirror_mode": {
    "name": "ipython",
    "version": 2
   },
   "file_extension": ".py",
   "mimetype": "text/x-python",
   "name": "python",
   "nbconvert_exporter": "python",
   "pygments_lexer": "ipython2",
   "version": "2.7.6"
  }
 },
 "nbformat": 4,
 "nbformat_minor": 5
}
