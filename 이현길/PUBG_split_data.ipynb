{
 "cells": [
  {
   "cell_type": "code",
   "execution_count": 68,
   "metadata": {},
   "outputs": [],
   "source": [
    "import pandas as pd\n"
   ]
  },
  {
   "cell_type": "code",
   "execution_count": 69,
   "metadata": {},
   "outputs": [],
   "source": [
    "pubg_file = \"../DATA/train_V2.csv\"\n",
    "pubg_test_file = \"../DATA/test_V2.csv\"\n"
   ]
  },
  {
   "cell_type": "code",
   "execution_count": 70,
   "metadata": {},
   "outputs": [
    {
     "name": "stdout",
     "output_type": "stream",
     "text": [
      "<class 'pandas.core.frame.DataFrame'>\n",
      "Int64Index: 4446965 entries, 0 to 4446965\n",
      "Data columns (total 29 columns):\n",
      " #   Column           Dtype  \n",
      "---  ------           -----  \n",
      " 0   Id               object \n",
      " 1   groupId          object \n",
      " 2   matchId          object \n",
      " 3   assists          int64  \n",
      " 4   boosts           int64  \n",
      " 5   damageDealt      float64\n",
      " 6   DBNOs            int64  \n",
      " 7   headshotKills    int64  \n",
      " 8   heals            int64  \n",
      " 9   killPlace        int64  \n",
      " 10  killPoints       int64  \n",
      " 11  kills            int64  \n",
      " 12  killStreaks      int64  \n",
      " 13  longestKill      float64\n",
      " 14  matchDuration    int64  \n",
      " 15  matchType        object \n",
      " 16  maxPlace         int64  \n",
      " 17  numGroups        int64  \n",
      " 18  rankPoints       int64  \n",
      " 19  revives          int64  \n",
      " 20  rideDistance     float64\n",
      " 21  roadKills        int64  \n",
      " 22  swimDistance     float64\n",
      " 23  teamKills        int64  \n",
      " 24  vehicleDestroys  int64  \n",
      " 25  walkDistance     float64\n",
      " 26  weaponsAcquired  int64  \n",
      " 27  winPoints        int64  \n",
      " 28  winPlacePerc     float64\n",
      "dtypes: float64(6), int64(19), object(4)\n",
      "memory usage: 1017.8+ MB\n"
     ]
    }
   ],
   "source": [
    "pubgDF_ori = pd.read_csv(pubg_file).dropna()\n",
    "pubgDF_ori.info()\n"
   ]
  },
  {
   "cell_type": "code",
   "execution_count": 100,
   "metadata": {},
   "outputs": [
    {
     "data": {
      "text/plain": [
       "winPlacePerc       1.000000\n",
       "walkDistance       0.810888\n",
       "boosts             0.634234\n",
       "weaponsAcquired    0.583806\n",
       "damageDealt        0.440507\n",
       "heals              0.427857\n",
       "kills              0.419916\n",
       "longestKill        0.410154\n",
       "killStreaks        0.377566\n",
       "rideDistance       0.342915\n",
       "assists            0.299441\n",
       "DBNOs              0.279970\n",
       "headshotKills      0.277722\n",
       "revives            0.240881\n",
       "swimDistance       0.149607\n",
       "vehicleDestroys    0.073436\n",
       "numGroups          0.039621\n",
       "maxPlace           0.037377\n",
       "roadKills          0.034544\n",
       "teamKills          0.015943\n",
       "rankPoints         0.013523\n",
       "killPoints         0.012908\n",
       "winPoints          0.007061\n",
       "matchDuration     -0.005171\n",
       "killPlace         -0.719069\n",
       "Name: winPlacePerc, dtype: float64"
      ]
     },
     "execution_count": 100,
     "metadata": {},
     "output_type": "execute_result"
    }
   ],
   "source": [
    "pubgDF_ori.corr(numeric_only=True)[\"winPlacePerc\"].sort_values(ascending=False)\n"
   ]
  },
  {
   "cell_type": "code",
   "execution_count": 71,
   "metadata": {},
   "outputs": [
    {
     "name": "stdout",
     "output_type": "stream",
     "text": [
      "<class 'pandas.core.frame.DataFrame'>\n",
      "RangeIndex: 1934174 entries, 0 to 1934173\n",
      "Data columns (total 28 columns):\n",
      " #   Column           Dtype  \n",
      "---  ------           -----  \n",
      " 0   Id               object \n",
      " 1   groupId          object \n",
      " 2   matchId          object \n",
      " 3   assists          int64  \n",
      " 4   boosts           int64  \n",
      " 5   damageDealt      float64\n",
      " 6   DBNOs            int64  \n",
      " 7   headshotKills    int64  \n",
      " 8   heals            int64  \n",
      " 9   killPlace        int64  \n",
      " 10  killPoints       int64  \n",
      " 11  kills            int64  \n",
      " 12  killStreaks      int64  \n",
      " 13  longestKill      float64\n",
      " 14  matchDuration    int64  \n",
      " 15  matchType        object \n",
      " 16  maxPlace         int64  \n",
      " 17  numGroups        int64  \n",
      " 18  rankPoints       int64  \n",
      " 19  revives          int64  \n",
      " 20  rideDistance     float64\n",
      " 21  roadKills        int64  \n",
      " 22  swimDistance     float64\n",
      " 23  teamKills        int64  \n",
      " 24  vehicleDestroys  int64  \n",
      " 25  walkDistance     float64\n",
      " 26  weaponsAcquired  int64  \n",
      " 27  winPoints        int64  \n",
      "dtypes: float64(5), int64(19), object(4)\n",
      "memory usage: 413.2+ MB\n"
     ]
    }
   ],
   "source": [
    "pubg_testDF_ori = pd.read_csv(pubg_test_file).dropna()\n",
    "pubg_testDF_ori.info()\n"
   ]
  },
  {
   "cell_type": "code",
   "execution_count": 72,
   "metadata": {},
   "outputs": [],
   "source": [
    "drop_features_object = [\"Id\", \"groupId\", \"matchId\"]\n",
    "drop_features_replace = [\"rankPoints\", \"winPoints\"]\n"
   ]
  },
  {
   "cell_type": "code",
   "execution_count": 73,
   "metadata": {},
   "outputs": [
    {
     "name": "stdout",
     "output_type": "stream",
     "text": [
      "<class 'pandas.core.frame.DataFrame'>\n",
      "Int64Index: 4446965 entries, 0 to 4446965\n",
      "Data columns (total 26 columns):\n",
      " #   Column           Dtype  \n",
      "---  ------           -----  \n",
      " 0   assists          int64  \n",
      " 1   boosts           int64  \n",
      " 2   damageDealt      float64\n",
      " 3   DBNOs            int64  \n",
      " 4   headshotKills    int64  \n",
      " 5   heals            int64  \n",
      " 6   killPlace        int64  \n",
      " 7   killPoints       int64  \n",
      " 8   kills            int64  \n",
      " 9   killStreaks      int64  \n",
      " 10  longestKill      float64\n",
      " 11  matchDuration    int64  \n",
      " 12  matchType        object \n",
      " 13  maxPlace         int64  \n",
      " 14  numGroups        int64  \n",
      " 15  rankPoints       int64  \n",
      " 16  revives          int64  \n",
      " 17  rideDistance     float64\n",
      " 18  roadKills        int64  \n",
      " 19  swimDistance     float64\n",
      " 20  teamKills        int64  \n",
      " 21  vehicleDestroys  int64  \n",
      " 22  walkDistance     float64\n",
      " 23  weaponsAcquired  int64  \n",
      " 24  winPoints        int64  \n",
      " 25  winPlacePerc     float64\n",
      "dtypes: float64(6), int64(19), object(1)\n",
      "memory usage: 916.0+ MB\n"
     ]
    }
   ],
   "source": [
    "pubgDF_pre1 = pubgDF_ori.drop(drop_features_object, axis=1)\n",
    "pubgDF_pre1.info()\n"
   ]
  },
  {
   "cell_type": "code",
   "execution_count": 74,
   "metadata": {},
   "outputs": [
    {
     "name": "stdout",
     "output_type": "stream",
     "text": [
      "<class 'pandas.core.frame.DataFrame'>\n",
      "RangeIndex: 1934174 entries, 0 to 1934173\n",
      "Data columns (total 25 columns):\n",
      " #   Column           Dtype  \n",
      "---  ------           -----  \n",
      " 0   assists          int64  \n",
      " 1   boosts           int64  \n",
      " 2   damageDealt      float64\n",
      " 3   DBNOs            int64  \n",
      " 4   headshotKills    int64  \n",
      " 5   heals            int64  \n",
      " 6   killPlace        int64  \n",
      " 7   killPoints       int64  \n",
      " 8   kills            int64  \n",
      " 9   killStreaks      int64  \n",
      " 10  longestKill      float64\n",
      " 11  matchDuration    int64  \n",
      " 12  matchType        object \n",
      " 13  maxPlace         int64  \n",
      " 14  numGroups        int64  \n",
      " 15  rankPoints       int64  \n",
      " 16  revives          int64  \n",
      " 17  rideDistance     float64\n",
      " 18  roadKills        int64  \n",
      " 19  swimDistance     float64\n",
      " 20  teamKills        int64  \n",
      " 21  vehicleDestroys  int64  \n",
      " 22  walkDistance     float64\n",
      " 23  weaponsAcquired  int64  \n",
      " 24  winPoints        int64  \n",
      "dtypes: float64(5), int64(19), object(1)\n",
      "memory usage: 368.9+ MB\n"
     ]
    }
   ],
   "source": [
    "pubg_testDF_pre1 = pubg_testDF_ori.drop(drop_features_object, axis=1)\n",
    "pubg_testDF_pre1.info()\n"
   ]
  },
  {
   "cell_type": "code",
   "execution_count": 75,
   "metadata": {},
   "outputs": [
    {
     "data": {
      "text/html": [
       "<div>\n",
       "<style scoped>\n",
       "    .dataframe tbody tr th:only-of-type {\n",
       "        vertical-align: middle;\n",
       "    }\n",
       "\n",
       "    .dataframe tbody tr th {\n",
       "        vertical-align: top;\n",
       "    }\n",
       "\n",
       "    .dataframe thead th {\n",
       "        text-align: right;\n",
       "    }\n",
       "</style>\n",
       "<table border=\"1\" class=\"dataframe\">\n",
       "  <thead>\n",
       "    <tr style=\"text-align: right;\">\n",
       "      <th></th>\n",
       "      <th>rankPoints</th>\n",
       "      <th>winPoints</th>\n",
       "    </tr>\n",
       "  </thead>\n",
       "  <tbody>\n",
       "    <tr>\n",
       "      <th>0</th>\n",
       "      <td>-1</td>\n",
       "      <td>1466</td>\n",
       "    </tr>\n",
       "    <tr>\n",
       "      <th>1</th>\n",
       "      <td>1484</td>\n",
       "      <td>0</td>\n",
       "    </tr>\n",
       "    <tr>\n",
       "      <th>2</th>\n",
       "      <td>1491</td>\n",
       "      <td>0</td>\n",
       "    </tr>\n",
       "    <tr>\n",
       "      <th>3</th>\n",
       "      <td>1408</td>\n",
       "      <td>0</td>\n",
       "    </tr>\n",
       "    <tr>\n",
       "      <th>4</th>\n",
       "      <td>1560</td>\n",
       "      <td>0</td>\n",
       "    </tr>\n",
       "    <tr>\n",
       "      <th>...</th>\n",
       "      <td>...</td>\n",
       "      <td>...</td>\n",
       "    </tr>\n",
       "    <tr>\n",
       "      <th>4446961</th>\n",
       "      <td>-1</td>\n",
       "      <td>1507</td>\n",
       "    </tr>\n",
       "    <tr>\n",
       "      <th>4446962</th>\n",
       "      <td>1501</td>\n",
       "      <td>0</td>\n",
       "    </tr>\n",
       "    <tr>\n",
       "      <th>4446963</th>\n",
       "      <td>1500</td>\n",
       "      <td>0</td>\n",
       "    </tr>\n",
       "    <tr>\n",
       "      <th>4446964</th>\n",
       "      <td>1418</td>\n",
       "      <td>0</td>\n",
       "    </tr>\n",
       "    <tr>\n",
       "      <th>4446965</th>\n",
       "      <td>1590</td>\n",
       "      <td>0</td>\n",
       "    </tr>\n",
       "  </tbody>\n",
       "</table>\n",
       "<p>4446965 rows × 2 columns</p>\n",
       "</div>"
      ],
      "text/plain": [
       "         rankPoints  winPoints\n",
       "0                -1       1466\n",
       "1              1484          0\n",
       "2              1491          0\n",
       "3              1408          0\n",
       "4              1560          0\n",
       "...             ...        ...\n",
       "4446961          -1       1507\n",
       "4446962        1501          0\n",
       "4446963        1500          0\n",
       "4446964        1418          0\n",
       "4446965        1590          0\n",
       "\n",
       "[4446965 rows x 2 columns]"
      ]
     },
     "execution_count": 75,
     "metadata": {},
     "output_type": "execute_result"
    }
   ],
   "source": [
    "pubgDF_pre1[drop_features_replace]\n"
   ]
  },
  {
   "cell_type": "code",
   "execution_count": 76,
   "metadata": {},
   "outputs": [
    {
     "data": {
      "text/html": [
       "<div>\n",
       "<style scoped>\n",
       "    .dataframe tbody tr th:only-of-type {\n",
       "        vertical-align: middle;\n",
       "    }\n",
       "\n",
       "    .dataframe tbody tr th {\n",
       "        vertical-align: top;\n",
       "    }\n",
       "\n",
       "    .dataframe thead th {\n",
       "        text-align: right;\n",
       "    }\n",
       "</style>\n",
       "<table border=\"1\" class=\"dataframe\">\n",
       "  <thead>\n",
       "    <tr style=\"text-align: right;\">\n",
       "      <th></th>\n",
       "      <th>rankPoints</th>\n",
       "      <th>winPoints</th>\n",
       "    </tr>\n",
       "  </thead>\n",
       "  <tbody>\n",
       "    <tr>\n",
       "      <th>0</th>\n",
       "      <td>1500</td>\n",
       "      <td>0</td>\n",
       "    </tr>\n",
       "    <tr>\n",
       "      <th>1</th>\n",
       "      <td>1503</td>\n",
       "      <td>0</td>\n",
       "    </tr>\n",
       "    <tr>\n",
       "      <th>2</th>\n",
       "      <td>1565</td>\n",
       "      <td>0</td>\n",
       "    </tr>\n",
       "    <tr>\n",
       "      <th>3</th>\n",
       "      <td>1465</td>\n",
       "      <td>0</td>\n",
       "    </tr>\n",
       "    <tr>\n",
       "      <th>4</th>\n",
       "      <td>1480</td>\n",
       "      <td>0</td>\n",
       "    </tr>\n",
       "    <tr>\n",
       "      <th>...</th>\n",
       "      <td>...</td>\n",
       "      <td>...</td>\n",
       "    </tr>\n",
       "    <tr>\n",
       "      <th>1934169</th>\n",
       "      <td>-1</td>\n",
       "      <td>1526</td>\n",
       "    </tr>\n",
       "    <tr>\n",
       "      <th>1934170</th>\n",
       "      <td>-1</td>\n",
       "      <td>1496</td>\n",
       "    </tr>\n",
       "    <tr>\n",
       "      <th>1934171</th>\n",
       "      <td>1482</td>\n",
       "      <td>0</td>\n",
       "    </tr>\n",
       "    <tr>\n",
       "      <th>1934172</th>\n",
       "      <td>1456</td>\n",
       "      <td>0</td>\n",
       "    </tr>\n",
       "    <tr>\n",
       "      <th>1934173</th>\n",
       "      <td>-1</td>\n",
       "      <td>1551</td>\n",
       "    </tr>\n",
       "  </tbody>\n",
       "</table>\n",
       "<p>1934174 rows × 2 columns</p>\n",
       "</div>"
      ],
      "text/plain": [
       "         rankPoints  winPoints\n",
       "0              1500          0\n",
       "1              1503          0\n",
       "2              1565          0\n",
       "3              1465          0\n",
       "4              1480          0\n",
       "...             ...        ...\n",
       "1934169          -1       1526\n",
       "1934170          -1       1496\n",
       "1934171        1482          0\n",
       "1934172        1456          0\n",
       "1934173          -1       1551\n",
       "\n",
       "[1934174 rows x 2 columns]"
      ]
     },
     "execution_count": 76,
     "metadata": {},
     "output_type": "execute_result"
    }
   ],
   "source": [
    "pubg_testDF_pre1[drop_features_replace]\n"
   ]
  },
  {
   "cell_type": "code",
   "execution_count": 101,
   "metadata": {},
   "outputs": [
    {
     "data": {
      "text/html": [
       "<div>\n",
       "<style scoped>\n",
       "    .dataframe tbody tr th:only-of-type {\n",
       "        vertical-align: middle;\n",
       "    }\n",
       "\n",
       "    .dataframe tbody tr th {\n",
       "        vertical-align: top;\n",
       "    }\n",
       "\n",
       "    .dataframe thead th {\n",
       "        text-align: right;\n",
       "    }\n",
       "</style>\n",
       "<table border=\"1\" class=\"dataframe\">\n",
       "  <thead>\n",
       "    <tr style=\"text-align: right;\">\n",
       "      <th></th>\n",
       "      <th>rankPoints</th>\n",
       "      <th>winPoints</th>\n",
       "    </tr>\n",
       "  </thead>\n",
       "  <tbody>\n",
       "  </tbody>\n",
       "</table>\n",
       "</div>"
      ],
      "text/plain": [
       "Empty DataFrame\n",
       "Columns: [rankPoints, winPoints]\n",
       "Index: []"
      ]
     },
     "execution_count": 101,
     "metadata": {},
     "output_type": "execute_result"
    }
   ],
   "source": [
    "pubgDF_pre1[drop_features_replace][\n",
    "    (pubgDF_pre1[\"rankPoints\"] != -1)\n",
    "    & (pubgDF_pre1[\"rankPoints\"] != 0)\n",
    "    & (pubgDF_pre1[\"winPoints\"] != 0)\n",
    "]\n"
   ]
  },
  {
   "cell_type": "code",
   "execution_count": 102,
   "metadata": {},
   "outputs": [
    {
     "data": {
      "text/html": [
       "<div>\n",
       "<style scoped>\n",
       "    .dataframe tbody tr th:only-of-type {\n",
       "        vertical-align: middle;\n",
       "    }\n",
       "\n",
       "    .dataframe tbody tr th {\n",
       "        vertical-align: top;\n",
       "    }\n",
       "\n",
       "    .dataframe thead th {\n",
       "        text-align: right;\n",
       "    }\n",
       "</style>\n",
       "<table border=\"1\" class=\"dataframe\">\n",
       "  <thead>\n",
       "    <tr style=\"text-align: right;\">\n",
       "      <th></th>\n",
       "      <th>rankPoints</th>\n",
       "      <th>winPoints</th>\n",
       "    </tr>\n",
       "  </thead>\n",
       "  <tbody>\n",
       "  </tbody>\n",
       "</table>\n",
       "</div>"
      ],
      "text/plain": [
       "Empty DataFrame\n",
       "Columns: [rankPoints, winPoints]\n",
       "Index: []"
      ]
     },
     "execution_count": 102,
     "metadata": {},
     "output_type": "execute_result"
    }
   ],
   "source": [
    "pubg_testDF_pre1[drop_features_replace][\n",
    "    (pubg_testDF_pre1[\"rankPoints\"] != -1)\n",
    "    & (pubg_testDF_pre1[\"rankPoints\"] != 0)\n",
    "    & (pubg_testDF_pre1[\"winPoints\"] != 0)\n",
    "]\n"
   ]
  },
  {
   "cell_type": "code",
   "execution_count": 103,
   "metadata": {},
   "outputs": [
    {
     "data": {
      "text/plain": [
       "0          1466\n",
       "1          1484\n",
       "2          1491\n",
       "3          1408\n",
       "4          1560\n",
       "           ... \n",
       "4446961    1507\n",
       "4446962    1501\n",
       "4446963    1500\n",
       "4446964    1418\n",
       "4446965    1590\n",
       "Length: 4446965, dtype: int64"
      ]
     },
     "execution_count": 103,
     "metadata": {},
     "output_type": "execute_result"
    }
   ],
   "source": [
    "winRankPoints = pubgDF_pre1[\"rankPoints\"].replace(-1, 0) + pubgDF_pre1[\"winPoints\"]\n",
    "winRankPoints\n"
   ]
  },
  {
   "cell_type": "code",
   "execution_count": 79,
   "metadata": {},
   "outputs": [
    {
     "name": "stdout",
     "output_type": "stream",
     "text": [
      "<class 'pandas.core.frame.DataFrame'>\n",
      "Int64Index: 4446965 entries, 0 to 4446965\n",
      "Data columns (total 25 columns):\n",
      " #   Column           Dtype  \n",
      "---  ------           -----  \n",
      " 0   assists          int64  \n",
      " 1   boosts           int64  \n",
      " 2   damageDealt      float64\n",
      " 3   DBNOs            int64  \n",
      " 4   headshotKills    int64  \n",
      " 5   heals            int64  \n",
      " 6   killPlace        int64  \n",
      " 7   killPoints       int64  \n",
      " 8   kills            int64  \n",
      " 9   killStreaks      int64  \n",
      " 10  longestKill      float64\n",
      " 11  matchDuration    int64  \n",
      " 12  matchType        object \n",
      " 13  maxPlace         int64  \n",
      " 14  numGroups        int64  \n",
      " 15  revives          int64  \n",
      " 16  rideDistance     float64\n",
      " 17  roadKills        int64  \n",
      " 18  swimDistance     float64\n",
      " 19  teamKills        int64  \n",
      " 20  vehicleDestroys  int64  \n",
      " 21  walkDistance     float64\n",
      " 22  weaponsAcquired  int64  \n",
      " 23  winRankPoints    int64  \n",
      " 24  winPlacePerc     float64\n",
      "dtypes: float64(6), int64(18), object(1)\n",
      "memory usage: 882.1+ MB\n"
     ]
    }
   ],
   "source": [
    "pubgDF_pre2 = pd.concat(\n",
    "    [\n",
    "        pubgDF_pre1.drop(drop_features_replace + [\"winPlacePerc\"], axis=1),\n",
    "        winRankPoints.rename(\"winRankPoints\"),\n",
    "        pubgDF_pre1[\"winPlacePerc\"],\n",
    "    ],\n",
    "    axis=1,\n",
    ")\n",
    "pubgDF_pre2.info()\n"
   ]
  },
  {
   "cell_type": "code",
   "execution_count": null,
   "metadata": {},
   "outputs": [],
   "source": [
    "winRankPoints_test = (\n",
    "    pubg_testDF_pre1[\"rankPoints\"].replace(-1, 0) + pubg_testDF_pre1[\"winPoints\"]\n",
    ")\n"
   ]
  },
  {
   "cell_type": "code",
   "execution_count": 80,
   "metadata": {},
   "outputs": [
    {
     "name": "stdout",
     "output_type": "stream",
     "text": [
      "<class 'pandas.core.frame.DataFrame'>\n",
      "RangeIndex: 1934174 entries, 0 to 1934173\n",
      "Data columns (total 24 columns):\n",
      " #   Column           Dtype  \n",
      "---  ------           -----  \n",
      " 0   assists          int64  \n",
      " 1   boosts           int64  \n",
      " 2   damageDealt      float64\n",
      " 3   DBNOs            int64  \n",
      " 4   headshotKills    int64  \n",
      " 5   heals            int64  \n",
      " 6   killPlace        int64  \n",
      " 7   killPoints       int64  \n",
      " 8   kills            int64  \n",
      " 9   killStreaks      int64  \n",
      " 10  longestKill      float64\n",
      " 11  matchDuration    int64  \n",
      " 12  matchType        object \n",
      " 13  maxPlace         int64  \n",
      " 14  numGroups        int64  \n",
      " 15  revives          int64  \n",
      " 16  rideDistance     float64\n",
      " 17  roadKills        int64  \n",
      " 18  swimDistance     float64\n",
      " 19  teamKills        int64  \n",
      " 20  vehicleDestroys  int64  \n",
      " 21  walkDistance     float64\n",
      " 22  weaponsAcquired  int64  \n",
      " 23  winRankPoints    int64  \n",
      "dtypes: float64(5), int64(18), object(1)\n",
      "memory usage: 354.2+ MB\n"
     ]
    }
   ],
   "source": [
    "pubg_testDF_pre2 = pd.concat(\n",
    "    [\n",
    "        pubg_testDF_pre1.drop(drop_features_replace, axis=1),\n",
    "        winRankPoints_test.rename(\"winRankPoints\"),\n",
    "    ],\n",
    "    axis=1,\n",
    ")\n",
    "pubg_testDF_pre2.info()\n"
   ]
  },
  {
   "cell_type": "code",
   "execution_count": 81,
   "metadata": {},
   "outputs": [
    {
     "data": {
      "text/plain": [
       "Index(['assists', 'boosts', 'damageDealt', 'DBNOs', 'headshotKills', 'heals',\n",
       "       'killPlace', 'killPoints', 'kills', 'killStreaks', 'longestKill',\n",
       "       'matchDuration', 'matchType', 'maxPlace', 'numGroups', 'rankPoints',\n",
       "       'revives', 'rideDistance', 'roadKills', 'swimDistance', 'teamKills',\n",
       "       'vehicleDestroys', 'walkDistance', 'weaponsAcquired', 'winPoints'],\n",
       "      dtype='object')"
      ]
     },
     "execution_count": 81,
     "metadata": {},
     "output_type": "execute_result"
    }
   ],
   "source": [
    "pubg_testDF_pre1.columns\n"
   ]
  },
  {
   "cell_type": "code",
   "execution_count": 82,
   "metadata": {},
   "outputs": [],
   "source": [
    "def opt_dtype(df: pd.DataFrame):\n",
    "    df2 = df.copy()\n",
    "    for col in df.columns:\n",
    "        if df[col].dtype == \"int64\":\n",
    "            if df[col].max() < 2**8:\n",
    "                df2[col] = df[col].astype(\"uint8\")\n",
    "            elif df[col].max() < 2**16:\n",
    "                df2[col] = df[col].astype(\"uint16\")\n",
    "            elif df[col].max() < 2**32:\n",
    "                df2[col] = df[col].astype(\"uint32\")\n",
    "    return df2\n"
   ]
  },
  {
   "cell_type": "code",
   "execution_count": 83,
   "metadata": {},
   "outputs": [
    {
     "name": "stdout",
     "output_type": "stream",
     "text": [
      "<class 'pandas.core.frame.DataFrame'>\n",
      "Int64Index: 4446965 entries, 0 to 4446965\n",
      "Data columns (total 25 columns):\n",
      " #   Column           Dtype  \n",
      "---  ------           -----  \n",
      " 0   assists          uint8  \n",
      " 1   boosts           uint8  \n",
      " 2   damageDealt      float64\n",
      " 3   DBNOs            uint8  \n",
      " 4   headshotKills    uint8  \n",
      " 5   heals            uint8  \n",
      " 6   killPlace        uint8  \n",
      " 7   killPoints       uint16 \n",
      " 8   kills            uint8  \n",
      " 9   killStreaks      uint8  \n",
      " 10  longestKill      float64\n",
      " 11  matchDuration    uint16 \n",
      " 12  matchType        object \n",
      " 13  maxPlace         uint8  \n",
      " 14  numGroups        uint8  \n",
      " 15  revives          uint8  \n",
      " 16  rideDistance     float64\n",
      " 17  roadKills        uint8  \n",
      " 18  swimDistance     float64\n",
      " 19  teamKills        uint8  \n",
      " 20  vehicleDestroys  uint8  \n",
      " 21  walkDistance     float64\n",
      " 22  weaponsAcquired  uint8  \n",
      " 23  winRankPoints    uint16 \n",
      " 24  winPlacePerc     float64\n",
      "dtypes: float64(6), object(1), uint16(3), uint8(15)\n",
      "memory usage: 360.5+ MB\n"
     ]
    }
   ],
   "source": [
    "pubgDF_pre3 = opt_dtype(pubgDF_pre2)\n",
    "pubgDF_pre3.info()\n"
   ]
  },
  {
   "cell_type": "code",
   "execution_count": 84,
   "metadata": {},
   "outputs": [
    {
     "name": "stdout",
     "output_type": "stream",
     "text": [
      "<class 'pandas.core.frame.DataFrame'>\n",
      "RangeIndex: 1934174 entries, 0 to 1934173\n",
      "Data columns (total 24 columns):\n",
      " #   Column           Dtype  \n",
      "---  ------           -----  \n",
      " 0   assists          uint8  \n",
      " 1   boosts           uint8  \n",
      " 2   damageDealt      float64\n",
      " 3   DBNOs            uint8  \n",
      " 4   headshotKills    uint8  \n",
      " 5   heals            uint8  \n",
      " 6   killPlace        uint8  \n",
      " 7   killPoints       uint16 \n",
      " 8   kills            uint8  \n",
      " 9   killStreaks      uint8  \n",
      " 10  longestKill      float64\n",
      " 11  matchDuration    uint16 \n",
      " 12  matchType        object \n",
      " 13  maxPlace         uint8  \n",
      " 14  numGroups        uint8  \n",
      " 15  revives          uint8  \n",
      " 16  rideDistance     float64\n",
      " 17  roadKills        uint8  \n",
      " 18  swimDistance     float64\n",
      " 19  teamKills        uint8  \n",
      " 20  vehicleDestroys  uint8  \n",
      " 21  walkDistance     float64\n",
      " 22  weaponsAcquired  uint8  \n",
      " 23  winRankPoints    uint16 \n",
      "dtypes: float64(5), object(1), uint16(3), uint8(15)\n",
      "memory usage: 127.3+ MB\n"
     ]
    }
   ],
   "source": [
    "pubg_testDF_pre3 = opt_dtype(pubg_testDF_pre2)\n",
    "pubg_testDF_pre3.info()\n"
   ]
  },
  {
   "cell_type": "code",
   "execution_count": 85,
   "metadata": {},
   "outputs": [
    {
     "name": "stdout",
     "output_type": "stream",
     "text": [
      "<class 'pandas.core.frame.DataFrame'>\n",
      "RangeIndex: 1934174 entries, 0 to 1934173\n",
      "Data columns (total 25 columns):\n",
      " #   Column           Dtype  \n",
      "---  ------           -----  \n",
      " 0   assists          uint8  \n",
      " 1   boosts           uint8  \n",
      " 2   damageDealt      float64\n",
      " 3   DBNOs            uint8  \n",
      " 4   headshotKills    uint8  \n",
      " 5   heals            uint8  \n",
      " 6   killPlace        uint8  \n",
      " 7   killPoints       uint16 \n",
      " 8   kills            uint8  \n",
      " 9   killStreaks      uint8  \n",
      " 10  longestKill      float64\n",
      " 11  matchDuration    uint16 \n",
      " 12  matchType        object \n",
      " 13  maxPlace         uint8  \n",
      " 14  numGroups        uint8  \n",
      " 15  rankPoints       uint16 \n",
      " 16  revives          uint8  \n",
      " 17  rideDistance     float64\n",
      " 18  roadKills        uint8  \n",
      " 19  swimDistance     float64\n",
      " 20  teamKills        uint8  \n",
      " 21  vehicleDestroys  uint8  \n",
      " 22  walkDistance     float64\n",
      " 23  weaponsAcquired  uint8  \n",
      " 24  winPoints        uint16 \n",
      "dtypes: float64(5), object(1), uint16(4), uint8(15)\n",
      "memory usage: 131.0+ MB\n"
     ]
    }
   ],
   "source": [
    "pubg_testDF_pre3_solo = opt_dtype(pubg_testDF_pre1)\n",
    "pubg_testDF_pre3_solo.info()\n"
   ]
  },
  {
   "cell_type": "code",
   "execution_count": 86,
   "metadata": {},
   "outputs": [
    {
     "data": {
      "text/plain": [
       "array(['squad-fpp', 'duo', 'solo-fpp', 'squad', 'duo-fpp', 'solo',\n",
       "       'normal-squad-fpp', 'crashfpp', 'flaretpp', 'normal-solo-fpp',\n",
       "       'flarefpp', 'normal-duo-fpp', 'normal-duo', 'normal-squad',\n",
       "       'crashtpp', 'normal-solo'], dtype=object)"
      ]
     },
     "execution_count": 86,
     "metadata": {},
     "output_type": "execute_result"
    }
   ],
   "source": [
    "pubgDF_pre3[\"matchType\"].unique()\n"
   ]
  },
  {
   "cell_type": "code",
   "execution_count": 87,
   "metadata": {},
   "outputs": [],
   "source": [
    "mask_duo = pubgDF_pre3[\"matchType\"] == \"duo\"\n",
    "mask_duo_fpp = pubgDF_pre3[\"matchType\"] == \"duo-fpp\"\n"
   ]
  },
  {
   "cell_type": "code",
   "execution_count": 88,
   "metadata": {},
   "outputs": [],
   "source": [
    "mask_test_solo = pubg_testDF_pre3_solo[\"matchType\"] == \"solo\"\n",
    "mask_test_solo_fpp = pubg_testDF_pre3_solo[\"matchType\"] == \"solo-fpp\"\n",
    "mask_test_duo = pubg_testDF_pre3[\"matchType\"] == \"duo\"\n",
    "mask_test_duo_fpp = pubg_testDF_pre3[\"matchType\"] == \"duo-fpp\"\n",
    "mask_test_squad = pubg_testDF_pre3[\"matchType\"] == \"squad\"\n",
    "mask_test_squad_fpp = pubg_testDF_pre3[\"matchType\"] == \"squad-fpp\"\n"
   ]
  },
  {
   "cell_type": "code",
   "execution_count": 89,
   "metadata": {},
   "outputs": [],
   "source": [
    "mask_test_solo_normal = pubg_testDF_pre3[\"matchType\"] == \"normal-solo\"\n",
    "mask_test_solo_fpp_normal = pubg_testDF_pre3[\"matchType\"] == \"normal-solo-fpp\"\n",
    "mask_test_duo_normal = pubg_testDF_pre3[\"matchType\"] == \"normal-duo\"\n",
    "mask_test_duo_fpp_normal = pubg_testDF_pre3[\"matchType\"] == \"normal-duo-fpp\"\n",
    "mask_test_squad_normal = pubg_testDF_pre3[\"matchType\"] == \"normal-squad\"\n",
    "mask_test_squad_fpp_normal = pubg_testDF_pre3[\"matchType\"] == \"normal-squad-fpp\"\n"
   ]
  },
  {
   "cell_type": "code",
   "execution_count": 90,
   "metadata": {},
   "outputs": [],
   "source": [
    "pubg_duoDF = pubgDF_pre3[mask_duo].drop(\"matchType\", axis=1)\n",
    "pubg_duo_fppDF = pubgDF_pre3[mask_duo_fpp].drop(\"matchType\", axis=1)\n"
   ]
  },
  {
   "cell_type": "code",
   "execution_count": 91,
   "metadata": {},
   "outputs": [],
   "source": [
    "pubg_test_soloDF = pubg_testDF_pre3_solo[mask_test_solo].drop(\"matchType\", axis=1)\n",
    "pubg_test_solo_fppDF = pubg_testDF_pre3_solo[mask_test_solo_fpp].drop(\n",
    "    \"matchType\", axis=1\n",
    ")\n",
    "pubg_test_duoDF = pubg_testDF_pre3[mask_test_duo].drop(\"matchType\", axis=1)\n",
    "pubg_test_duo_fppDF = pubg_testDF_pre3[mask_test_duo_fpp].drop(\"matchType\", axis=1)\n",
    "pubg_test_squadDF = pubg_testDF_pre3[mask_test_squad].drop(\"matchType\", axis=1)\n",
    "pubg_test_squad_fppDF = pubg_testDF_pre3[mask_test_squad_fpp].drop(\"matchType\", axis=1)\n"
   ]
  },
  {
   "cell_type": "code",
   "execution_count": 92,
   "metadata": {},
   "outputs": [],
   "source": [
    "pubg_test_solo_normalDF = pubg_testDF_pre3[mask_test_solo_normal].drop(\n",
    "    \"matchType\", axis=1\n",
    ")\n",
    "pubg_test_solo_fpp_normalDF = pubg_testDF_pre3[mask_test_solo_fpp_normal].drop(\n",
    "    \"matchType\", axis=1\n",
    ")\n",
    "pubg_test_duo_normalDF = pubg_testDF_pre3[mask_test_duo_normal].drop(\n",
    "    \"matchType\", axis=1\n",
    ")\n",
    "pubg_test_duo_fpp_normalDF = pubg_testDF_pre3[mask_test_duo_fpp_normal].drop(\n",
    "    \"matchType\", axis=1\n",
    ")\n",
    "pubg_test_squad_normalDF = pubg_testDF_pre3[mask_test_squad_normal].drop(\n",
    "    \"matchType\", axis=1\n",
    ")\n",
    "pubg_test_squad_fpp_normalDF = pubg_testDF_pre3[mask_test_squad_fpp_normal].drop(\n",
    "    \"matchType\", axis=1\n",
    ")\n"
   ]
  },
  {
   "cell_type": "code",
   "execution_count": 93,
   "metadata": {},
   "outputs": [],
   "source": [
    "save_dir = \"./DataFrame/\"\n"
   ]
  },
  {
   "cell_type": "code",
   "execution_count": 94,
   "metadata": {},
   "outputs": [],
   "source": [
    "pubg_duoDF.to_pickle(save_dir + \"pubg_duoDF.pkl\")\n",
    "pubg_duo_fppDF.to_pickle(save_dir + \"pubg_duo_fppDF.pkl\")\n"
   ]
  },
  {
   "cell_type": "code",
   "execution_count": 95,
   "metadata": {},
   "outputs": [],
   "source": [
    "pubg_test_soloDF.to_pickle(save_dir + \"pubg_test_soloDF.pkl\")\n",
    "pubg_test_solo_fppDF.to_pickle(save_dir + \"pubg_test_solo_fppDF.pkl\")\n",
    "pubg_test_duoDF.to_pickle(save_dir + \"pubg_test_duoDF.pkl\")\n",
    "pubg_test_duo_fppDF.to_pickle(save_dir + \"pubg_test_duo_fppDF.pkl\")\n",
    "pubg_test_squadDF.to_pickle(save_dir + \"pubg_test_squadDF.pkl\")\n",
    "pubg_test_squad_fppDF.to_pickle(save_dir + \"pubg_test_squad_fppDF.pkl\")\n"
   ]
  },
  {
   "cell_type": "code",
   "execution_count": 96,
   "metadata": {},
   "outputs": [],
   "source": [
    "pubg_test_solo_normalDF.to_pickle(save_dir + \"pubg_test_solo_normalDF.pkl\")\n",
    "pubg_test_solo_fpp_normalDF.to_pickle(save_dir + \"pubg_test_solo_fpp_normalDF.pkl\")\n",
    "pubg_test_duo_normalDF.to_pickle(save_dir + \"pubg_test_duo_normalDF.pkl\")\n",
    "pubg_test_duo_fpp_normalDF.to_pickle(save_dir + \"pubg_test_duo_fpp_normalDF.pkl\")\n",
    "pubg_test_squad_normalDF.to_pickle(save_dir + \"pubg_test_squad_normalDF.pkl\")\n",
    "pubg_test_squad_fpp_normalDF.to_pickle(save_dir + \"pubg_test_squad_fpp_normalDF.pkl\")\n"
   ]
  },
  {
   "cell_type": "code",
   "execution_count": 97,
   "metadata": {},
   "outputs": [
    {
     "data": {
      "text/html": [
       "<div>\n",
       "<style scoped>\n",
       "    .dataframe tbody tr th:only-of-type {\n",
       "        vertical-align: middle;\n",
       "    }\n",
       "\n",
       "    .dataframe tbody tr th {\n",
       "        vertical-align: top;\n",
       "    }\n",
       "\n",
       "    .dataframe thead th {\n",
       "        text-align: right;\n",
       "    }\n",
       "</style>\n",
       "<table border=\"1\" class=\"dataframe\">\n",
       "  <thead>\n",
       "    <tr style=\"text-align: right;\">\n",
       "      <th></th>\n",
       "      <th>assists</th>\n",
       "      <th>boosts</th>\n",
       "      <th>damageDealt</th>\n",
       "      <th>DBNOs</th>\n",
       "      <th>headshotKills</th>\n",
       "      <th>heals</th>\n",
       "      <th>killPlace</th>\n",
       "      <th>killPoints</th>\n",
       "      <th>kills</th>\n",
       "      <th>killStreaks</th>\n",
       "      <th>...</th>\n",
       "      <th>numGroups</th>\n",
       "      <th>revives</th>\n",
       "      <th>rideDistance</th>\n",
       "      <th>roadKills</th>\n",
       "      <th>swimDistance</th>\n",
       "      <th>teamKills</th>\n",
       "      <th>vehicleDestroys</th>\n",
       "      <th>walkDistance</th>\n",
       "      <th>weaponsAcquired</th>\n",
       "      <th>winRankPoints</th>\n",
       "    </tr>\n",
       "  </thead>\n",
       "  <tbody>\n",
       "    <tr>\n",
       "      <th>5690</th>\n",
       "      <td>0</td>\n",
       "      <td>0</td>\n",
       "      <td>17.20</td>\n",
       "      <td>0</td>\n",
       "      <td>0</td>\n",
       "      <td>0</td>\n",
       "      <td>1</td>\n",
       "      <td>0</td>\n",
       "      <td>1</td>\n",
       "      <td>1</td>\n",
       "      <td>...</td>\n",
       "      <td>2</td>\n",
       "      <td>0</td>\n",
       "      <td>0.0</td>\n",
       "      <td>0</td>\n",
       "      <td>0.0</td>\n",
       "      <td>0</td>\n",
       "      <td>0</td>\n",
       "      <td>21.87</td>\n",
       "      <td>0</td>\n",
       "      <td>1500</td>\n",
       "    </tr>\n",
       "    <tr>\n",
       "      <th>8851</th>\n",
       "      <td>0</td>\n",
       "      <td>0</td>\n",
       "      <td>113.30</td>\n",
       "      <td>0</td>\n",
       "      <td>0</td>\n",
       "      <td>2</td>\n",
       "      <td>34</td>\n",
       "      <td>0</td>\n",
       "      <td>0</td>\n",
       "      <td>0</td>\n",
       "      <td>...</td>\n",
       "      <td>38</td>\n",
       "      <td>0</td>\n",
       "      <td>1248.0</td>\n",
       "      <td>0</td>\n",
       "      <td>0.0</td>\n",
       "      <td>0</td>\n",
       "      <td>0</td>\n",
       "      <td>418.80</td>\n",
       "      <td>4</td>\n",
       "      <td>1500</td>\n",
       "    </tr>\n",
       "    <tr>\n",
       "      <th>22376</th>\n",
       "      <td>0</td>\n",
       "      <td>0</td>\n",
       "      <td>30.96</td>\n",
       "      <td>0</td>\n",
       "      <td>0</td>\n",
       "      <td>0</td>\n",
       "      <td>10</td>\n",
       "      <td>0</td>\n",
       "      <td>0</td>\n",
       "      <td>0</td>\n",
       "      <td>...</td>\n",
       "      <td>2</td>\n",
       "      <td>0</td>\n",
       "      <td>0.0</td>\n",
       "      <td>0</td>\n",
       "      <td>0.0</td>\n",
       "      <td>0</td>\n",
       "      <td>0</td>\n",
       "      <td>79.95</td>\n",
       "      <td>0</td>\n",
       "      <td>1500</td>\n",
       "    </tr>\n",
       "    <tr>\n",
       "      <th>77399</th>\n",
       "      <td>0</td>\n",
       "      <td>2</td>\n",
       "      <td>100.00</td>\n",
       "      <td>0</td>\n",
       "      <td>0</td>\n",
       "      <td>2</td>\n",
       "      <td>8</td>\n",
       "      <td>0</td>\n",
       "      <td>1</td>\n",
       "      <td>1</td>\n",
       "      <td>...</td>\n",
       "      <td>38</td>\n",
       "      <td>0</td>\n",
       "      <td>5366.0</td>\n",
       "      <td>0</td>\n",
       "      <td>0.0</td>\n",
       "      <td>0</td>\n",
       "      <td>0</td>\n",
       "      <td>1092.00</td>\n",
       "      <td>4</td>\n",
       "      <td>1500</td>\n",
       "    </tr>\n",
       "    <tr>\n",
       "      <th>81162</th>\n",
       "      <td>0</td>\n",
       "      <td>0</td>\n",
       "      <td>100.00</td>\n",
       "      <td>0</td>\n",
       "      <td>1</td>\n",
       "      <td>0</td>\n",
       "      <td>13</td>\n",
       "      <td>0</td>\n",
       "      <td>1</td>\n",
       "      <td>1</td>\n",
       "      <td>...</td>\n",
       "      <td>38</td>\n",
       "      <td>0</td>\n",
       "      <td>1370.0</td>\n",
       "      <td>0</td>\n",
       "      <td>0.0</td>\n",
       "      <td>1</td>\n",
       "      <td>0</td>\n",
       "      <td>484.70</td>\n",
       "      <td>4</td>\n",
       "      <td>1500</td>\n",
       "    </tr>\n",
       "  </tbody>\n",
       "</table>\n",
       "<p>5 rows × 23 columns</p>\n",
       "</div>"
      ],
      "text/plain": [
       "       assists  boosts  damageDealt  DBNOs  headshotKills  heals  killPlace  \\\n",
       "5690         0       0        17.20      0              0      0          1   \n",
       "8851         0       0       113.30      0              0      2         34   \n",
       "22376        0       0        30.96      0              0      0         10   \n",
       "77399        0       2       100.00      0              0      2          8   \n",
       "81162        0       0       100.00      0              1      0         13   \n",
       "\n",
       "       killPoints  kills  killStreaks  ...  numGroups  revives  rideDistance  \\\n",
       "5690            0      1            1  ...          2        0           0.0   \n",
       "8851            0      0            0  ...         38        0        1248.0   \n",
       "22376           0      0            0  ...          2        0           0.0   \n",
       "77399           0      1            1  ...         38        0        5366.0   \n",
       "81162           0      1            1  ...         38        0        1370.0   \n",
       "\n",
       "       roadKills  swimDistance  teamKills  vehicleDestroys  walkDistance  \\\n",
       "5690           0           0.0          0                0         21.87   \n",
       "8851           0           0.0          0                0        418.80   \n",
       "22376          0           0.0          0                0         79.95   \n",
       "77399          0           0.0          0                0       1092.00   \n",
       "81162          0           0.0          1                0        484.70   \n",
       "\n",
       "       weaponsAcquired  winRankPoints  \n",
       "5690                 0           1500  \n",
       "8851                 4           1500  \n",
       "22376                0           1500  \n",
       "77399                4           1500  \n",
       "81162                4           1500  \n",
       "\n",
       "[5 rows x 23 columns]"
      ]
     },
     "execution_count": 97,
     "metadata": {},
     "output_type": "execute_result"
    }
   ],
   "source": [
    "pubg_test_solo_normalDF.iloc[0:5]\n"
   ]
  },
  {
   "cell_type": "code",
   "execution_count": 98,
   "metadata": {},
   "outputs": [
    {
     "data": {
      "text/plain": [
       "Index(['assists', 'boosts', 'damageDealt', 'DBNOs', 'headshotKills', 'heals',\n",
       "       'killPlace', 'killPoints', 'kills', 'killStreaks', 'longestKill',\n",
       "       'matchDuration', 'maxPlace', 'numGroups', 'rankPoints', 'revives',\n",
       "       'rideDistance', 'roadKills', 'swimDistance', 'teamKills',\n",
       "       'vehicleDestroys', 'walkDistance', 'weaponsAcquired', 'winPoints'],\n",
       "      dtype='object')"
      ]
     },
     "execution_count": 98,
     "metadata": {},
     "output_type": "execute_result"
    }
   ],
   "source": [
    "pubg_test_soloDF.columns\n"
   ]
  },
  {
   "cell_type": "code",
   "execution_count": null,
   "metadata": {},
   "outputs": [],
   "source": []
  }
 ],
 "metadata": {
  "kernelspec": {
   "display_name": "projectML",
   "language": "python",
   "name": "python3"
  },
  "language_info": {
   "codemirror_mode": {
    "name": "ipython",
    "version": 3
   },
   "file_extension": ".py",
   "mimetype": "text/x-python",
   "name": "python",
   "nbconvert_exporter": "python",
   "pygments_lexer": "ipython3",
   "version": "3.9.18"
  }
 },
 "nbformat": 4,
 "nbformat_minor": 2
}
